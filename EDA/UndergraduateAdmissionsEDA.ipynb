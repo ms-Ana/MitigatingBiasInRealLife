{
 "cells": [
  {
   "cell_type": "code",
   "execution_count": 2,
   "metadata": {},
   "outputs": [],
   "source": [
    "import numpy as np\n",
    "import matplotlib.pyplot as plt\n",
    "import pandas as pd\n",
    "import seaborn as sns\n",
    "\n",
    "sns.set_style(\"darkgrid\")\n",
    "from tqdm import tqdm_notebook as tqdm"
   ]
  },
  {
   "cell_type": "code",
   "execution_count": 5,
   "metadata": {},
   "outputs": [],
   "source": [
    "import sys\n",
    "\n",
    "sys.path.insert(0, \"..\")\n",
    "from fair_metrics.group_fairness import disparity_ratio, attributable_disparity\n"
   ]
  },
  {
   "cell_type": "code",
   "execution_count": 3,
   "metadata": {},
   "outputs": [
    {
     "name": "stderr",
     "output_type": "stream",
     "text": [
      "/tmp/ipykernel_44208/942094448.py:1: DtypeWarning: Columns (6,12) have mixed types. Specify dtype option on import or set low_memory=False.\n",
      "  data = pd.read_csv(\"../row_data/UndergraduateAdmissionsData.csv\")\n"
     ]
    }
   ],
   "source": [
    "data = pd.read_csv(\"../row_data/UndergraduateAdmissionsData.csv\")"
   ]
  },
  {
   "cell_type": "code",
   "execution_count": 6,
   "metadata": {},
   "outputs": [
    {
     "name": "stdout",
     "output_type": "stream",
     "text": [
      "Disparity ratio 1.0318813523568249\n",
      "Attributable disparity 0.01947447096701138\n"
     ]
    }
   ],
   "source": [
    "print(\"Disparity ratio\", disparity_ratio(data, \"accept\", \"gender\", \"M\", \"F\"))\n",
    "print(\n",
    "    \"Attributable disparity\", attributable_disparity(data, \"accept\", \"gender\", \"M\", \"F\")\n",
    ")"
   ]
  },
  {
   "cell_type": "code",
   "execution_count": 11,
   "metadata": {},
   "outputs": [
    {
     "name": "stdout",
     "output_type": "stream",
     "text": [
      "Disparity ratio 0.9082287848284822\n",
      "Attributable disparity -0.04015640612927368\n"
     ]
    }
   ],
   "source": [
    "print(\n",
    "    \"Disparity ratio\",\n",
    "    disparity_ratio(data[data[\"accept\"] == 1.0], \"enroll\", \"gender\", \"M\", \"F\"),\n",
    ")\n",
    "print(\n",
    "    \"Attributable disparity\",\n",
    "    attributable_disparity(data[data[\"accept\"] == 1.0], \"enroll\", \"gender\", \"M\", \"F\"),\n",
    ")"
   ]
  },
  {
   "cell_type": "code",
   "execution_count": 41,
   "metadata": {},
   "outputs": [
    {
     "name": "stdout",
     "output_type": "stream",
     "text": [
      "<class 'pandas.core.frame.DataFrame'>\n",
      "RangeIndex: 856914 entries, 0 to 856913\n",
      "Data columns (total 15 columns):\n",
      " #   Column         Non-Null Count   Dtype  \n",
      "---  ------         --------------   -----  \n",
      " 0   ACTCOMP        484947 non-null  float64\n",
      " 1   SATCOMP        593083 non-null  float64\n",
      " 2   HS_GPA         554682 non-null  float64\n",
      " 3   gender         699261 non-null  object \n",
      " 4   ethnicity      803670 non-null  object \n",
      " 5   accepted       835324 non-null  object \n",
      " 6   enrolled       779185 non-null  object \n",
      " 7   year_incoming  842098 non-null  float64\n",
      " 8   inst           856914 non-null  object \n",
      " 9   residency      856914 non-null  int64  \n",
      " 10  SATV           390614 non-null  float64\n",
      " 11  SATM           390638 non-null  float64\n",
      " 12  athlete        241221 non-null  object \n",
      " 13  accept         835324 non-null  float64\n",
      " 14  enroll         779185 non-null  float64\n",
      "dtypes: float64(8), int64(1), object(6)\n",
      "memory usage: 98.1+ MB\n"
     ]
    }
   ],
   "source": [
    "data.info()"
   ]
  },
  {
   "cell_type": "code",
   "execution_count": 42,
   "metadata": {},
   "outputs": [
    {
     "name": "stdout",
     "output_type": "stream",
     "text": [
      "NAN for ethnicity 26855\n",
      "Unstated for ethnicity 53244\n"
     ]
    }
   ],
   "source": [
    "# Preprocess ethnicity\n",
    "print(\"NAN for ethnicity\", data[data[\"ethnicity\"] == \"U\"].shape[0])\n",
    "print(\"Unstated for ethnicity\", data[pd.isna(data[\"ethnicity\"])].shape[0])\n",
    "# We can change Nan ethnicity to Unstated\n",
    "data.loc[pd.isna(data[\"ethnicity\"]), \"ethnicity\"] = \"U\""
   ]
  },
  {
   "cell_type": "code",
   "execution_count": 43,
   "metadata": {},
   "outputs": [
    {
     "data": {
      "text/plain": [
       "ethnicity\n",
       "W    504777\n",
       "H    101000\n",
       "U     80099\n",
       "B     73621\n",
       "A     71514\n",
       "O      8887\n",
       "I      8623\n",
       "N      8393\n",
       "Name: count, dtype: int64"
      ]
     },
     "execution_count": 43,
     "metadata": {},
     "output_type": "execute_result"
    }
   ],
   "source": [
    "data[\"ethnicity\"].value_counts()"
   ]
  },
  {
   "cell_type": "code",
   "execution_count": 44,
   "metadata": {},
   "outputs": [
    {
     "name": "stdout",
     "output_type": "stream",
     "text": [
      "athlete\n",
      "0.0        94371\n",
      "0          58701\n",
      "N          47758\n",
      ".          32599\n",
      "No          5640\n",
      "Y            608\n",
      "1            542\n",
      "Yes          325\n",
      "ATHLSCH      209\n",
      "Athlete      192\n",
      "T            185\n",
      "1.0           69\n",
      "A             22\n",
      "Name: count, dtype: int64\n"
     ]
    }
   ],
   "source": [
    "## Preprocess athlete\n",
    "\n",
    "print(data[\"athlete\"].value_counts())\n",
    "# Assume that 0.0, 0, N, ., No are NOT athlete values, encode them with 0.0\n",
    "# Assume Y, 1, Yes, ATHLSCH, Athlete, t, 1.0, A are athelete values, encode them with 1.0\n",
    "# Assume Nan are unstated, encode them with 0.5\n",
    "yes_values = [\"Y\", \"Yes\", \"1\", \"1.0\", \"ATHLSCH\", \"Athlete\", \"T\", \"A\"]\n",
    "no_values = [\"N\", \"No\", \"0\", \"0.0\", \".\"]\n",
    "data[\"athlete\"] = data[\"athlete\"].replace(yes_values, 1.0).replace(no_values, 0.0)\n",
    "data.loc[pd.isna(data[\"athlete\"]), \"athlete\"] = 0.5"
   ]
  },
  {
   "cell_type": "code",
   "execution_count": 45,
   "metadata": {},
   "outputs": [
    {
     "data": {
      "text/plain": [
       "athlete\n",
       "0.5    615693\n",
       "0.0    239069\n",
       "1.0      2152\n",
       "Name: count, dtype: int64"
      ]
     },
     "execution_count": 45,
     "metadata": {},
     "output_type": "execute_result"
    }
   ],
   "source": [
    "data[\"athlete\"].value_counts()"
   ]
  },
  {
   "cell_type": "code",
   "execution_count": 46,
   "metadata": {},
   "outputs": [
    {
     "name": "stdout",
     "output_type": "stream",
     "text": [
      "[ 16.    nan  18.   13.   20.   17.   28.   14.   21.   11.   12.   19.\n",
      "  25.   22.   15.   26.   24.   23.   30.   29.   27.   31.   34.    8.\n",
      "  32.   33.    9.   10.   35.    4.    5.   36.   18.5   0.    3.    1.\n",
      "   7.   99.   38.   48.   40.   78.   44.   42.   92.   66.   50.   72.\n",
      "  54.   46.   52.  100.   56.   76.   63.   58.   57.   69.   81.   62.\n",
      "  88.   51.   60.   75.   64.   45.  104.   90.   47.    6.    2. ]\n",
      "NAN for ACTCOMP 371967\n",
      "0 for ACTCOMP 55138\n",
      "ACTCOMP\n",
      "0.0      427105\n",
      "24.0      36380\n",
      "25.0      35508\n",
      "23.0      35423\n",
      "22.0      33342\n",
      "          ...  \n",
      "92.0          1\n",
      "18.5          1\n",
      "100.0         1\n",
      "99.0          1\n",
      "2.0           1\n",
      "Name: count, Length: 70, dtype: int64\n"
     ]
    }
   ],
   "source": [
    "# Preprocess Exam scores\n",
    "# Values from 1 to 100, we assume that zeroes are same as missed values\n",
    "print(data[\"ACTCOMP\"].unique())\n",
    "print(\"NAN for ACTCOMP\", data[pd.isna(data[\"ACTCOMP\"])].shape[0])\n",
    "print(\"0 for ACTCOMP\", data[data[\"ACTCOMP\"] == 0].shape[0])\n",
    "data.loc[pd.isna(data[\"ACTCOMP\"]), \"ACTCOMP\"] = 0.0\n",
    "print(data[\"ACTCOMP\"].value_counts())"
   ]
  },
  {
   "cell_type": "code",
   "execution_count": 47,
   "metadata": {},
   "outputs": [
    {
     "data": {
      "text/plain": [
       "SATCOMP\n",
       "0.0       69487\n",
       "1120.0     9534\n",
       "1110.0     9504\n",
       "1140.0     9450\n",
       "1210.0     9384\n",
       "          ...  \n",
       "62.0          1\n",
       "1066.0        1\n",
       "56.0          1\n",
       "46.0          1\n",
       "1098.0        1\n",
       "Name: count, Length: 271, dtype: int64"
      ]
     },
     "execution_count": 47,
     "metadata": {},
     "output_type": "execute_result"
    }
   ],
   "source": [
    "data[\"SATCOMP\"].value_counts()"
   ]
  },
  {
   "cell_type": "code",
   "execution_count": 10,
   "metadata": {},
   "outputs": [
    {
     "name": "stdout",
     "output_type": "stream",
     "text": [
      "[ 830.   nan  960. 1020. 1160. 1050.  700. 1350. 1100.  980.  890.  750.\n",
      "  910.  770.  870. 1040.  880.  680.  800.  840.  580.  690. 1060.  820.\n",
      "  950.  900.  710. 1230. 1030.  990.  920. 1000. 1130.  730.  810. 1220.\n",
      " 1180.  940.  620. 1120. 1270.  970. 1200. 1010.  930. 1070.  590. 1240.\n",
      "  790.  660.  720.  760. 1140.  670. 1210. 1190. 1170. 1150.  570.  780.\n",
      " 1090. 1310.  860.  850. 1250. 1430. 1110.  640. 1260.  600.  740. 1290.\n",
      " 1460.  650.  550. 1480. 1390. 1080. 1420. 1320.  630. 1380. 1340. 1500.\n",
      "  530. 1280. 1218. 1330. 1360. 1490.  610. 1410. 1580.  470.  520.  440.\n",
      " 1470.  560.  540.  410. 1300.  460.  450. 1370. 1062. 1560. 1510. 1400.\n",
      "  400.  510.  500. 1550. 1450. 1440.  480. 1520.  490.  430. 1530. 1540.\n",
      " 1042. 1590. 1600. 1066.  420. 1570. 1117.  781.  935. 1028.  768.  973.\n",
      "  999. 1383.    0. 1017. 1237.  958. 1137. 1158.  991. 1052.  544. 1041.\n",
      "  685. 1116.  126.  114.  112.  121.  127.  124.  134.  123.   95.  135.\n",
      "  113.  125.   94.  129.  105.  108.  116.  107.  117.  100.   99.  148.\n",
      "  101.  106.  131.   77.  109.  102.  140.  133.  115.  103.   92.  119.\n",
      "  128.  104.  111.  156.  146.  118.  120.  110.   97.  122.  154.   93.\n",
      "  138.   79.   89.   84.  130.  141.  136.  152.   91.  147.  143.   86.\n",
      "   90.  137.  139.   98.  132.   96.  160.   82.   85.  142.   71.   80.\n",
      "  153.  144.   78.   75.   73.   83.   87.   68.  151.   76.   81.  145.\n",
      "  150.   88.   69.  159.  149.   66.   72.  158.   74.   53.   64.   70.\n",
      "   61.  155.   67.  157.   63.   62.   58.   56.   46.   51.   44.   65.\n",
      "   57.   59.  765.  200. 1315.  771.  340.  998.  824.  260.  937.  815.\n",
      "  869.  796. 1075. 1101.  803. 1059. 1089. 1098.]\n",
      "NAN for SATCOMP 263831\n",
      "0 for SATCOMP 69487\n",
      "SATCOMP\n",
      "0.0       333318\n",
      "1120.0      9534\n",
      "1110.0      9504\n",
      "1140.0      9450\n",
      "1210.0      9384\n",
      "           ...  \n",
      "62.0           1\n",
      "1066.0         1\n",
      "56.0           1\n",
      "46.0           1\n",
      "1098.0         1\n",
      "Name: count, Length: 271, dtype: int64\n"
     ]
    }
   ],
   "source": [
    "print(data[\"SATCOMP\"].unique())\n",
    "# Assume that zeroes are same as missed values\n",
    "print(\"NAN for SATCOMP\", data[pd.isna(data[\"SATCOMP\"])].shape[0])\n",
    "print(\"0 for SATCOMP\", data[data[\"SATCOMP\"] == 0].shape[0])\n",
    "data.loc[pd.isna(data[\"SATCOMP\"]), \"SATCOMP\"] = 0.0\n",
    "print(data[\"SATCOMP\"].value_counts())"
   ]
  },
  {
   "cell_type": "code",
   "execution_count": 48,
   "metadata": {},
   "outputs": [
    {
     "name": "stdout",
     "output_type": "stream",
     "text": [
      "[  nan  420.  600.  510.  450.  480.  430.  640.  400.  350.  380.  610.\n",
      "  460.  590.  410.  440.  530.  490.  330.  570.  550.  540.  560.  500.\n",
      "  470.  310.  660.  340.  670.  520.  580.  370.  630.  360.  390.  280.\n",
      "  620.  770.  210.  690.  320.  270.  300.  200.  290.  260.  250.  700.\n",
      "  710.  650.  790.  760.  730.  680.  750.  740.  800.  780.  240.  720.\n",
      "  230.  220.  582.  489.  611.  519.    0.  397.  628.  498.  491. 1200.\n",
      " 1000. 1100. 1110. 1530.  820.  880. 1120.  840. 1480. 1040. 1140.  920.\n",
      "  940. 1260.   66.   54.   55.   56.   59.   60.   58.   75.   62.   64.\n",
      "   50.   67.   53.   61.   49.   51.   48.   52.   63.   45.   72.   33.\n",
      "   47.   44.   57.   76.   65.   68.   74.   46.   41.   43.   80.   42.\n",
      "   69.   70.   39.   40.   71.   38.   36.   79.   73.   32.   30.   77.\n",
      "   35.   78.   37.   34.   25.   24.   28.   22.   31.   26.   20.   23.\n",
      "   21.   27.   29.  419.  436.  531.  571.]\n",
      "NAN for SATV 466300\n",
      "0 for SATV 42174\n",
      "SATV\n",
      "0.0       508474\n",
      "530.0      13231\n",
      "520.0      12430\n",
      "560.0      11906\n",
      "600.0      11776\n",
      "           ...  \n",
      "1120.0         1\n",
      "840.0          1\n",
      "1480.0         1\n",
      "1140.0         1\n",
      "571.0          1\n",
      "Name: count, Length: 150, dtype: int64\n"
     ]
    }
   ],
   "source": [
    "print(data[\"SATV\"].unique())\n",
    "# Assume that zeroes are same as missed values\n",
    "print(\"NAN for SATV\", data[pd.isna(data[\"SATV\"])].shape[0])\n",
    "print(\"0 for SATV\", data[data[\"SATV\"] == 0].shape[0])\n",
    "data.loc[pd.isna(data[\"SATV\"]), \"SATV\"] = 0.0\n",
    "print(data[\"SATV\"].value_counts())"
   ]
  },
  {
   "cell_type": "code",
   "execution_count": 12,
   "metadata": {},
   "outputs": [
    {
     "name": "stdout",
     "output_type": "stream",
     "text": [
      "[  nan  420.  610.  600.  540.  570.  480.  470.  390.  380.  620.  490.\n",
      "  560.  510.  440.  370.  590.  550.  460.  350.  400.  410.  520.  580.\n",
      "  500.  450.  430.  340.  330.  670.  530.  680.  360.  300.  320.  290.\n",
      "  740.  690.  260.  230.  650.  240.  630.  200.  270.  250.  640.  700.\n",
      "  310.  280.  660.  710.  210.  760.  770.  750.  800.  730.  720.  780.\n",
      "  790.  220.  577.  506.  361.  455.  518.  547.  368.  533.    0.  609.\n",
      "  548.  820. 1180.  920. 1290. 1590.  960.  940. 1360. 1060. 1300. 1120.\n",
      " 1380.  900. 1040. 1240.  860.   60.   57.   65.   68.   66.   59.   45.\n",
      "   64.   54.   56.   63.   49.   61.   76.   62.   67.   50.   53.   51.\n",
      "   44.   48.   69.   42.   55.   74.   58.   80.   70.   47.   38.   71.\n",
      "   78.   41.   72.   52.   77.   46.   79.   34.   35.   73.   43.   28.\n",
      "   75.   40.   39.   37.   33.   36.   29.   32.   31.   27.   26.   20.\n",
      "   30.   22.   24.  565.  579.  569.  509.]\n",
      "NAN for SATM 466276\n",
      "0 for SATM 42174\n",
      "SATM\n",
      "0.0       508450\n",
      "540.0      12217\n",
      "570.0      11876\n",
      "520.0      11407\n",
      "500.0      10592\n",
      "           ...  \n",
      "1120.0         1\n",
      "1380.0         1\n",
      "900.0          1\n",
      "1040.0         1\n",
      "509.0          1\n",
      "Name: count, Length: 150, dtype: int64\n"
     ]
    }
   ],
   "source": [
    "print(data[\"SATM\"].unique())\n",
    "# Assume that zeroes are same as missed values\n",
    "print(\"NAN for SATM\", data[pd.isna(data[\"SATM\"])].shape[0])\n",
    "print(\"0 for SATM\", data[data[\"SATM\"] == 0].shape[0])\n",
    "data.loc[pd.isna(data[\"SATM\"]), \"SATM\"] = 0.0\n",
    "print(data[\"SATM\"].value_counts())"
   ]
  },
  {
   "cell_type": "code",
   "execution_count": 13,
   "metadata": {},
   "outputs": [
    {
     "name": "stdout",
     "output_type": "stream",
     "text": [
      "[2.38    nan 2.87  ... 1.849 1.111 1.974]\n",
      "NAN for HS_GPA 302232\n",
      "0 for HS_GPA 10957\n",
      "HS_GPA\n",
      "0.000     313189\n",
      "4.000      18013\n",
      "3.000       8525\n",
      "3.500       6585\n",
      "3.300       3705\n",
      "           ...  \n",
      "95.460         1\n",
      "12.090         1\n",
      "11.360         1\n",
      "12.290         1\n",
      "1.974          1\n",
      "Name: count, Length: 8416, dtype: int64\n"
     ]
    }
   ],
   "source": [
    "print(data[\"HS_GPA\"].unique())\n",
    "# Assume that zeroes are same as missed values\n",
    "print(\"NAN for HS_GPA\", data[pd.isna(data[\"HS_GPA\"])].shape[0])\n",
    "print(\"0 for HS_GPA\", data[data[\"HS_GPA\"] == 0].shape[0])\n",
    "data.loc[pd.isna(data[\"HS_GPA\"]), \"HS_GPA\"] = 0.0\n",
    "print(data[\"HS_GPA\"].value_counts())"
   ]
  },
  {
   "cell_type": "code",
   "execution_count": 14,
   "metadata": {},
   "outputs": [],
   "source": [
    "# Remove data without information about exams\n",
    "data[\n",
    "    (data[\"SATCOMP\"] == 0)\n",
    "    & (data[\"ACTCOMP\"] == 0)\n",
    "    & (data[\"SATM\"] == 0)\n",
    "    & (data[\"SATV\"] == 0)\n",
    "    & (data[\"HS_GPA\"] == 0)\n",
    "]\n",
    "\n",
    "data = data[\n",
    "    (data[\"SATCOMP\"] != 0)\n",
    "    | (data[\"ACTCOMP\"] != 0)\n",
    "    | (data[\"SATM\"] != 0)\n",
    "    | (data[\"SATV\"] != 0)\n",
    "    | (data[\"HS_GPA\"] != 0)\n",
    "]"
   ]
  },
  {
   "cell_type": "code",
   "execution_count": 15,
   "metadata": {},
   "outputs": [
    {
     "name": "stdout",
     "output_type": "stream",
     "text": [
      "<class 'pandas.core.frame.DataFrame'>\n",
      "Index: 823527 entries, 0 to 856913\n",
      "Data columns (total 15 columns):\n",
      " #   Column         Non-Null Count   Dtype  \n",
      "---  ------         --------------   -----  \n",
      " 0   ACTCOMP        823527 non-null  float64\n",
      " 1   SATCOMP        823527 non-null  float64\n",
      " 2   HS_GPA         823527 non-null  float64\n",
      " 3   gender         675952 non-null  object \n",
      " 4   ethnicity      823527 non-null  object \n",
      " 5   accepted       802366 non-null  object \n",
      " 6   enrolled       746996 non-null  object \n",
      " 7   year_incoming  808879 non-null  float64\n",
      " 8   inst           823527 non-null  object \n",
      " 9   residency      823527 non-null  int64  \n",
      " 10  SATV           823527 non-null  float64\n",
      " 11  SATM           823527 non-null  float64\n",
      " 12  athlete        823527 non-null  float64\n",
      " 13  accept         802366 non-null  float64\n",
      " 14  enroll         746996 non-null  float64\n",
      "dtypes: float64(9), int64(1), object(5)\n",
      "memory usage: 100.5+ MB\n"
     ]
    }
   ],
   "source": [
    "data.info()"
   ]
  },
  {
   "cell_type": "code",
   "execution_count": 16,
   "metadata": {},
   "outputs": [
    {
     "name": "stdout",
     "output_type": "stream",
     "text": [
      "gender\n",
      "F    375976\n",
      "M    299976\n",
      "Name: count, dtype: int64\n",
      "Nan for Gender 147575\n",
      "Nan for Gender 0\n"
     ]
    }
   ],
   "source": [
    "print(data[\"gender\"].value_counts())\n",
    "print(\"Nan for Gender\", data[pd.isna(data[\"gender\"])].shape[0])\n",
    "## Let's rows with missing gender\n",
    "data = data[pd.notna(data[\"gender\"])]\n",
    "print(\"Nan for Gender\", data[pd.isna(data[\"gender\"])].shape[0])"
   ]
  },
  {
   "cell_type": "code",
   "execution_count": 17,
   "metadata": {},
   "outputs": [
    {
     "name": "stdout",
     "output_type": "stream",
     "text": [
      "<class 'pandas.core.frame.DataFrame'>\n",
      "Index: 675952 entries, 0 to 856913\n",
      "Data columns (total 15 columns):\n",
      " #   Column         Non-Null Count   Dtype  \n",
      "---  ------         --------------   -----  \n",
      " 0   ACTCOMP        675952 non-null  float64\n",
      " 1   SATCOMP        675952 non-null  float64\n",
      " 2   HS_GPA         675952 non-null  float64\n",
      " 3   gender         675952 non-null  object \n",
      " 4   ethnicity      675952 non-null  object \n",
      " 5   accepted       654791 non-null  object \n",
      " 6   enrolled       599422 non-null  object \n",
      " 7   year_incoming  672050 non-null  float64\n",
      " 8   inst           675952 non-null  object \n",
      " 9   residency      675952 non-null  int64  \n",
      " 10  SATV           675952 non-null  float64\n",
      " 11  SATM           675952 non-null  float64\n",
      " 12  athlete        675952 non-null  float64\n",
      " 13  accept         654791 non-null  float64\n",
      " 14  enroll         599422 non-null  float64\n",
      "dtypes: float64(9), int64(1), object(5)\n",
      "memory usage: 82.5+ MB\n"
     ]
    }
   ],
   "source": [
    "data.info()"
   ]
  },
  {
   "cell_type": "code",
   "execution_count": 18,
   "metadata": {},
   "outputs": [
    {
     "data": {
      "text/html": [
       "<div>\n",
       "<style scoped>\n",
       "    .dataframe tbody tr th:only-of-type {\n",
       "        vertical-align: middle;\n",
       "    }\n",
       "\n",
       "    .dataframe tbody tr th {\n",
       "        vertical-align: top;\n",
       "    }\n",
       "\n",
       "    .dataframe thead th {\n",
       "        text-align: right;\n",
       "    }\n",
       "</style>\n",
       "<table border=\"1\" class=\"dataframe\">\n",
       "  <thead>\n",
       "    <tr style=\"text-align: right;\">\n",
       "      <th></th>\n",
       "      <th>ACTCOMP</th>\n",
       "      <th>SATCOMP</th>\n",
       "      <th>HS_GPA</th>\n",
       "      <th>gender</th>\n",
       "      <th>ethnicity</th>\n",
       "      <th>accepted</th>\n",
       "      <th>enrolled</th>\n",
       "      <th>year_incoming</th>\n",
       "      <th>inst</th>\n",
       "      <th>residency</th>\n",
       "      <th>SATV</th>\n",
       "      <th>SATM</th>\n",
       "      <th>athlete</th>\n",
       "      <th>accept</th>\n",
       "      <th>enroll</th>\n",
       "    </tr>\n",
       "  </thead>\n",
       "  <tbody>\n",
       "  </tbody>\n",
       "</table>\n",
       "</div>"
      ],
      "text/plain": [
       "Empty DataFrame\n",
       "Columns: [ACTCOMP, SATCOMP, HS_GPA, gender, ethnicity, accepted, enrolled, year_incoming, inst, residency, SATV, SATM, athlete, accept, enroll]\n",
       "Index: []"
      ]
     },
     "execution_count": 18,
     "metadata": {},
     "output_type": "execute_result"
    }
   ],
   "source": [
    "## Check for enroll/accept feature\n",
    "data[(data[\"enrolled\"] == \"N\") & (data[\"enroll\"] != 0.0)]"
   ]
  },
  {
   "cell_type": "code",
   "execution_count": 19,
   "metadata": {},
   "outputs": [
    {
     "data": {
      "text/html": [
       "<div>\n",
       "<style scoped>\n",
       "    .dataframe tbody tr th:only-of-type {\n",
       "        vertical-align: middle;\n",
       "    }\n",
       "\n",
       "    .dataframe tbody tr th {\n",
       "        vertical-align: top;\n",
       "    }\n",
       "\n",
       "    .dataframe thead th {\n",
       "        text-align: right;\n",
       "    }\n",
       "</style>\n",
       "<table border=\"1\" class=\"dataframe\">\n",
       "  <thead>\n",
       "    <tr style=\"text-align: right;\">\n",
       "      <th></th>\n",
       "      <th>ACTCOMP</th>\n",
       "      <th>SATCOMP</th>\n",
       "      <th>HS_GPA</th>\n",
       "      <th>gender</th>\n",
       "      <th>ethnicity</th>\n",
       "      <th>accepted</th>\n",
       "      <th>enrolled</th>\n",
       "      <th>year_incoming</th>\n",
       "      <th>inst</th>\n",
       "      <th>residency</th>\n",
       "      <th>SATV</th>\n",
       "      <th>SATM</th>\n",
       "      <th>athlete</th>\n",
       "      <th>accept</th>\n",
       "      <th>enroll</th>\n",
       "    </tr>\n",
       "  </thead>\n",
       "  <tbody>\n",
       "  </tbody>\n",
       "</table>\n",
       "</div>"
      ],
      "text/plain": [
       "Empty DataFrame\n",
       "Columns: [ACTCOMP, SATCOMP, HS_GPA, gender, ethnicity, accepted, enrolled, year_incoming, inst, residency, SATV, SATM, athlete, accept, enroll]\n",
       "Index: []"
      ]
     },
     "execution_count": 19,
     "metadata": {},
     "output_type": "execute_result"
    }
   ],
   "source": [
    "data[(data[\"enrolled\"] != \"N\") & (data[\"enroll\"] == 0.0)]"
   ]
  },
  {
   "cell_type": "code",
   "execution_count": 21,
   "metadata": {},
   "outputs": [
    {
     "data": {
      "text/html": [
       "<div>\n",
       "<style scoped>\n",
       "    .dataframe tbody tr th:only-of-type {\n",
       "        vertical-align: middle;\n",
       "    }\n",
       "\n",
       "    .dataframe tbody tr th {\n",
       "        vertical-align: top;\n",
       "    }\n",
       "\n",
       "    .dataframe thead th {\n",
       "        text-align: right;\n",
       "    }\n",
       "</style>\n",
       "<table border=\"1\" class=\"dataframe\">\n",
       "  <thead>\n",
       "    <tr style=\"text-align: right;\">\n",
       "      <th></th>\n",
       "      <th>ACTCOMP</th>\n",
       "      <th>SATCOMP</th>\n",
       "      <th>HS_GPA</th>\n",
       "      <th>gender</th>\n",
       "      <th>ethnicity</th>\n",
       "      <th>accepted</th>\n",
       "      <th>enrolled</th>\n",
       "      <th>year_incoming</th>\n",
       "      <th>inst</th>\n",
       "      <th>residency</th>\n",
       "      <th>SATV</th>\n",
       "      <th>SATM</th>\n",
       "      <th>athlete</th>\n",
       "      <th>accept</th>\n",
       "      <th>enroll</th>\n",
       "    </tr>\n",
       "  </thead>\n",
       "  <tbody>\n",
       "  </tbody>\n",
       "</table>\n",
       "</div>"
      ],
      "text/plain": [
       "Empty DataFrame\n",
       "Columns: [ACTCOMP, SATCOMP, HS_GPA, gender, ethnicity, accepted, enrolled, year_incoming, inst, residency, SATV, SATM, athlete, accept, enroll]\n",
       "Index: []"
      ]
     },
     "execution_count": 21,
     "metadata": {},
     "output_type": "execute_result"
    }
   ],
   "source": [
    "data[(data[\"accepted\"] != \"N\") & (data[\"accept\"] == 0.0)]"
   ]
  },
  {
   "cell_type": "code",
   "execution_count": 20,
   "metadata": {},
   "outputs": [
    {
     "data": {
      "text/html": [
       "<div>\n",
       "<style scoped>\n",
       "    .dataframe tbody tr th:only-of-type {\n",
       "        vertical-align: middle;\n",
       "    }\n",
       "\n",
       "    .dataframe tbody tr th {\n",
       "        vertical-align: top;\n",
       "    }\n",
       "\n",
       "    .dataframe thead th {\n",
       "        text-align: right;\n",
       "    }\n",
       "</style>\n",
       "<table border=\"1\" class=\"dataframe\">\n",
       "  <thead>\n",
       "    <tr style=\"text-align: right;\">\n",
       "      <th></th>\n",
       "      <th>ACTCOMP</th>\n",
       "      <th>SATCOMP</th>\n",
       "      <th>HS_GPA</th>\n",
       "      <th>gender</th>\n",
       "      <th>ethnicity</th>\n",
       "      <th>accepted</th>\n",
       "      <th>enrolled</th>\n",
       "      <th>year_incoming</th>\n",
       "      <th>inst</th>\n",
       "      <th>residency</th>\n",
       "      <th>SATV</th>\n",
       "      <th>SATM</th>\n",
       "      <th>athlete</th>\n",
       "      <th>accept</th>\n",
       "      <th>enroll</th>\n",
       "    </tr>\n",
       "  </thead>\n",
       "  <tbody>\n",
       "  </tbody>\n",
       "</table>\n",
       "</div>"
      ],
      "text/plain": [
       "Empty DataFrame\n",
       "Columns: [ACTCOMP, SATCOMP, HS_GPA, gender, ethnicity, accepted, enrolled, year_incoming, inst, residency, SATV, SATM, athlete, accept, enroll]\n",
       "Index: []"
      ]
     },
     "execution_count": 20,
     "metadata": {},
     "output_type": "execute_result"
    }
   ],
   "source": [
    "data[(data[\"accepted\"] == \"N\") & (data[\"accept\"] != 0.0)]"
   ]
  },
  {
   "cell_type": "code",
   "execution_count": 22,
   "metadata": {},
   "outputs": [],
   "source": [
    "data = data.drop(columns=[\"accepted\", \"enrolled\"])"
   ]
  },
  {
   "cell_type": "code",
   "execution_count": 23,
   "metadata": {},
   "outputs": [
    {
     "name": "stdout",
     "output_type": "stream",
     "text": [
      "<class 'pandas.core.frame.DataFrame'>\n",
      "Index: 675952 entries, 0 to 856913\n",
      "Data columns (total 13 columns):\n",
      " #   Column         Non-Null Count   Dtype  \n",
      "---  ------         --------------   -----  \n",
      " 0   ACTCOMP        675952 non-null  float64\n",
      " 1   SATCOMP        675952 non-null  float64\n",
      " 2   HS_GPA         675952 non-null  float64\n",
      " 3   gender         675952 non-null  object \n",
      " 4   ethnicity      675952 non-null  object \n",
      " 5   year_incoming  672050 non-null  float64\n",
      " 6   inst           675952 non-null  object \n",
      " 7   residency      675952 non-null  int64  \n",
      " 8   SATV           675952 non-null  float64\n",
      " 9   SATM           675952 non-null  float64\n",
      " 10  athlete        675952 non-null  float64\n",
      " 11  accept         654791 non-null  float64\n",
      " 12  enroll         599422 non-null  float64\n",
      "dtypes: float64(9), int64(1), object(3)\n",
      "memory usage: 72.2+ MB\n"
     ]
    }
   ],
   "source": [
    "data.info()"
   ]
  },
  {
   "cell_type": "code",
   "execution_count": 24,
   "metadata": {},
   "outputs": [
    {
     "data": {
      "text/plain": [
       "accept  enroll\n",
       "1.0     0.0       225773\n",
       "0.0     0.0       213725\n",
       "1.0     1.0       159612\n",
       "0.0     1.0          312\n",
       "Name: count, dtype: int64"
      ]
     },
     "execution_count": 24,
     "metadata": {},
     "output_type": "execute_result"
    }
   ],
   "source": [
    "data[\n",
    "    [\"accept\", \"enroll\"]\n",
    "].value_counts()  ## we assume, that accept can't be 0, if enroll 1"
   ]
  },
  {
   "cell_type": "code",
   "execution_count": 25,
   "metadata": {},
   "outputs": [],
   "source": [
    "data = data[~((data[\"accept\"] == 0.0) & (data[\"enroll\"] == 1.0))]"
   ]
  },
  {
   "cell_type": "code",
   "execution_count": 27,
   "metadata": {},
   "outputs": [
    {
     "data": {
      "text/plain": [
       "year_incoming\n",
       "2006.0    306914\n",
       "2005.0    184142\n",
       "2007.0    149328\n",
       "2004.0     17834\n",
       "2008.0     13520\n",
       "Name: count, dtype: int64"
      ]
     },
     "execution_count": 27,
     "metadata": {},
     "output_type": "execute_result"
    }
   ],
   "source": [
    "data[\"year_incoming\"].value_counts()"
   ]
  },
  {
   "cell_type": "code",
   "execution_count": 28,
   "metadata": {},
   "outputs": [],
   "source": [
    "data.loc[pd.isna(data[\"year_incoming\"]), \"year_incoming\"] = data[\n",
    "    \"year_incoming\"\n",
    "].mode()[0]"
   ]
  },
  {
   "cell_type": "code",
   "execution_count": 29,
   "metadata": {},
   "outputs": [],
   "source": [
    "# Remove rows with Nan in accept\n",
    "data = data[pd.notna(data[\"accept\"])]"
   ]
  },
  {
   "cell_type": "code",
   "execution_count": 30,
   "metadata": {},
   "outputs": [
    {
     "name": "stdout",
     "output_type": "stream",
     "text": [
      "<class 'pandas.core.frame.DataFrame'>\n",
      "Index: 654479 entries, 0 to 856913\n",
      "Data columns (total 12 columns):\n",
      " #   Column         Non-Null Count   Dtype  \n",
      "---  ------         --------------   -----  \n",
      " 0   ACTCOMP        654479 non-null  float64\n",
      " 1   SATCOMP        654479 non-null  float64\n",
      " 2   HS_GPA         654479 non-null  float64\n",
      " 3   gender         654479 non-null  object \n",
      " 4   ethnicity      654479 non-null  object \n",
      " 5   year_incoming  654479 non-null  float64\n",
      " 6   inst           654479 non-null  object \n",
      " 7   residency      654479 non-null  int64  \n",
      " 8   SATV           654479 non-null  float64\n",
      " 9   SATM           654479 non-null  float64\n",
      " 10  athlete        654479 non-null  float64\n",
      " 11  accept         654479 non-null  float64\n",
      "dtypes: float64(8), int64(1), object(3)\n",
      "memory usage: 64.9+ MB\n"
     ]
    }
   ],
   "source": [
    "data.info()"
   ]
  },
  {
   "cell_type": "code",
   "execution_count": 31,
   "metadata": {},
   "outputs": [],
   "source": [
    "data.to_csv(\"../processed_data/UndergraduateAdmissionsData.csv\", index=False)"
   ]
  },
  {
   "cell_type": "markdown",
   "metadata": {},
   "source": [
    "### Fairness measure"
   ]
  },
  {
   "cell_type": "code",
   "execution_count": 36,
   "metadata": {},
   "outputs": [
    {
     "name": "stdout",
     "output_type": "stream",
     "text": [
      "Disparity ratio 1.0302868467164048\n",
      "Attributable disparity 0.018967166382021006\n"
     ]
    }
   ],
   "source": [
    "# Check disparity based on gender\n",
    "print(\"Disparity ratio\", disparity_ratio(data, \"accept\", \"gender\", \"M\", \"F\"))\n",
    "print(\n",
    "    \"Attributable disparity\", attributable_disparity(data, \"accept\", \"gender\", \"M\", \"F\")\n",
    ")"
   ]
  }
 ],
 "metadata": {
  "kernelspec": {
   "display_name": "FairEnv",
   "language": "python",
   "name": "python3"
  },
  "language_info": {
   "codemirror_mode": {
    "name": "ipython",
    "version": 3
   },
   "file_extension": ".py",
   "mimetype": "text/x-python",
   "name": "python",
   "nbconvert_exporter": "python",
   "pygments_lexer": "ipython3",
   "version": "3.11.7"
  }
 },
 "nbformat": 4,
 "nbformat_minor": 2
}
