{
 "cells": [
  {
   "cell_type": "code",
   "execution_count": 63,
   "metadata": {},
   "outputs": [],
   "source": [
    "%load_ext autoreload\n",
    "%autoreload 2"
   ]
  },
  {
   "cell_type": "code",
   "execution_count": 3,
   "metadata": {},
   "outputs": [],
   "source": [
    "import numpy as np\n",
    "import matplotlib.pyplot as plt\n",
    "import pandas as pd\n",
    "import seaborn as sns\n",
    "\n",
    "sns.set_style(\"darkgrid\")\n",
    "from tqdm import tqdm_notebook as tqdm"
   ]
  },
  {
   "cell_type": "markdown",
   "metadata": {},
   "source": [
    "### Attributes description(adopted from: https://arxiv.org/pdf/2110.00530.pdf)\n",
    "| Variable                | Type         | Description                                    |\n",
    "|-------------------------|--------------|------------------------------------------------|\n",
    "| sex                     | Binary       | Sex                                            |\n",
    "| age                     | Numerical    | Age in years                                   |\n",
    "| race                    | Categorical  | Race                                           |\n",
    "| juv fel count           | Numerical    | The juvenile felony count                      |\n",
    "| juv misd count          | Numerical    | The juvenile misdemeanor count                 |\n",
    "| juv other count         | Numerical    | The juvenile other offenses count              |\n",
    "| priors count            | Numerical    | The prior offenses count                       |\n",
    "| c charge degree         | Binary       | Charge degree of original crime                |\n",
    "| score text              | Categorical  | ProPublica-defined category of decile score    |\n",
    "| v score text            | Categorical  | ProPublica-defined category of v decile score  |\n",
    "| two year recid          | Binary       | Whether the defendant is rearrested within two years |\n",
    "| decile score            | Numerical    | The COMPAS Risk of Recidivism score            |\n",
    "| days b screening arrest | Numerical    | Days between COMPAS screening and arrest       |\n",
    "| c jail in               | Categorical  | Jail entry date for original crime             |\n",
    "| c jail out              | Categorical  | Jail exit date for original crime              |\n",
    "| c case number           | Categorical  | Case number for original crime                 |\n",
    "| c offense date          | Categorical  | Offense date of original crime                 |\n",
    "| c arrest date           | Categorical  | Arrest date for original crime                 |\n",
    "| c days from compas      | Numerical    | Days between COMPAS screening and offense date |\n",
    "| c charge desc           | Categorical  | Description of charge for original crime       |\n",
    "| is recid                | Binary       | Indicator of recidivation                      |\n",
    "| r charge degree         | Categorical  | Charge degree of follow-up crime               |\n",
    "| r days from arrest      | Numerical    | Days between follow-up crime and arrest        |\n",
    "| r offense date          | Categorical  | Date of follow-up crime                        |\n",
    "| r charge desc           | Categorical  | Description of charge for follow-up crime      |\n",
    "| r jail in               | Categorical  | Jail entry date for follow-up crime            |\n",
    "| r jail out              | Categorical  | Jail exit date for follow-up crime             |\n",
    "| is violent recid        | Binary       | Indicator of violent follow-up crime           |\n",
    "| vr case number          | Categorical  | Case number for violent follow-up crime        |\n",
    "| vr charge degree        | Categorical  | Charge degree for violent follow-up crime      |\n",
    "| vr offense date         | Categorical  | Date of offense for violent follow-up crime    |\n",
    "| vr charge desc          | Categorical  | Description of charge for violent follow-up    |\n",
    "| type of assessment      | Categorical  | Type of COMPAS score for decile score          |\n",
    "| v type of assessment    | Categorical  | Type of COMPAS score for v decile score        |\n",
    "| v decile score          | Numerical    | COMPAS Risk of Violence score                  |\n",
    "| v screening date        | Categorical  | Date on which v decile score was given         |\n",
    "| in custody              | Categorical  | Custody entry date                             |\n",
    "| out custody             | Categorical  | Custody exit date                              |\n",
    "\n",
    "The types of charge degrees: F - felony - more serious crimes - heavy penalties, including improsonment for more than one year, M - misdemeanor - less serious crimes - fines or imprisonment for less than one year.  \n"
   ]
  },
  {
   "cell_type": "code",
   "execution_count": 28,
   "metadata": {},
   "outputs": [],
   "source": [
    "data = pd.read_csv(\"../row_data/compas-scores-two-years.csv\")"
   ]
  },
  {
   "cell_type": "code",
   "execution_count": 19,
   "metadata": {},
   "outputs": [
    {
     "data": {
      "text/plain": [
       "Index(['id', 'name', 'first', 'last', 'compas_screening_date', 'sex', 'dob',\n",
       "       'age', 'age_cat', 'race', 'juv_fel_count', 'decile_score',\n",
       "       'juv_misd_count', 'juv_other_count', 'priors_count',\n",
       "       'days_b_screening_arrest', 'c_jail_in', 'c_jail_out', 'c_case_number',\n",
       "       'c_offense_date', 'c_arrest_date', 'c_days_from_compas',\n",
       "       'c_charge_degree', 'c_charge_desc', 'is_recid', 'r_case_number',\n",
       "       'r_charge_degree', 'r_days_from_arrest', 'r_offense_date',\n",
       "       'r_charge_desc', 'r_jail_in', 'r_jail_out', 'violent_recid',\n",
       "       'is_violent_recid', 'vr_case_number', 'vr_charge_degree',\n",
       "       'vr_offense_date', 'vr_charge_desc', 'type_of_assessment',\n",
       "       'decile_score.1', 'score_text', 'screening_date',\n",
       "       'v_type_of_assessment', 'v_decile_score', 'v_score_text',\n",
       "       'v_screening_date', 'in_custody', 'out_custody', 'priors_count.1',\n",
       "       'start', 'end', 'event', 'two_year_recid'],\n",
       "      dtype='object')"
      ]
     },
     "execution_count": 19,
     "metadata": {},
     "output_type": "execute_result"
    }
   ],
   "source": [
    "data = data.drop(columns=[\"sex\"])\n"
   ]
  },
  {
   "cell_type": "markdown",
   "metadata": {},
   "source": [
    "### Handling missing values / removing unusable columns"
   ]
  },
  {
   "cell_type": "code",
   "execution_count": 20,
   "metadata": {},
   "outputs": [],
   "source": [
    "# Remove personal info\n",
    "data = data.drop(columns=[\"id\", \"name\", \"first\", \"last\", \"compas_screening_date\", \"dob\", \"r_case_number\", \"c_case_number\",  \"vr_case_number\"])"
   ]
  },
  {
   "cell_type": "code",
   "execution_count": 21,
   "metadata": {},
   "outputs": [],
   "source": [
    "# Remove duplicated columns \n",
    "data = data.drop(columns=[\"priors_count.1\", \"decile_score.1\", \"screening_date\"])"
   ]
  },
  {
   "cell_type": "code",
   "execution_count": 22,
   "metadata": {},
   "outputs": [],
   "source": [
    "# Remove unknown columns \n",
    "data = data.drop(columns=[\"start\", \"end\", \"event\"])"
   ]
  },
  {
   "cell_type": "code",
   "execution_count": 23,
   "metadata": {},
   "outputs": [],
   "source": [
    "# Remove screening data \n",
    "data = data.drop(columns=[\"days_b_screening_arrest\", \"v_screening_date\"])"
   ]
  },
  {
   "cell_type": "code",
   "execution_count": 24,
   "metadata": {},
   "outputs": [],
   "source": [
    "# Remove charge description\n",
    "data = data.drop(columns=[\"c_charge_desc\", \"r_charge_desc\", \"vr_charge_desc\"])"
   ]
  },
  {
   "cell_type": "code",
   "execution_count": 25,
   "metadata": {},
   "outputs": [
    {
     "name": "stdout",
     "output_type": "stream",
     "text": [
      "<class 'pandas.core.frame.DataFrame'>\n",
      "RangeIndex: 7214 entries, 0 to 7213\n",
      "Data columns (total 33 columns):\n",
      " #   Column                Non-Null Count  Dtype  \n",
      "---  ------                --------------  -----  \n",
      " 0   sex                   7214 non-null   object \n",
      " 1   age                   7214 non-null   int64  \n",
      " 2   age_cat               7214 non-null   object \n",
      " 3   race                  7214 non-null   object \n",
      " 4   juv_fel_count         7214 non-null   int64  \n",
      " 5   decile_score          7214 non-null   int64  \n",
      " 6   juv_misd_count        7214 non-null   int64  \n",
      " 7   juv_other_count       7214 non-null   int64  \n",
      " 8   priors_count          7214 non-null   int64  \n",
      " 9   c_jail_in             6907 non-null   object \n",
      " 10  c_jail_out            6907 non-null   object \n",
      " 11  c_offense_date        6055 non-null   object \n",
      " 12  c_arrest_date         1137 non-null   object \n",
      " 13  c_days_from_compas    7192 non-null   float64\n",
      " 14  c_charge_degree       7214 non-null   object \n",
      " 15  is_recid              7214 non-null   int64  \n",
      " 16  r_charge_degree       3471 non-null   object \n",
      " 17  r_days_from_arrest    2316 non-null   float64\n",
      " 18  r_offense_date        3471 non-null   object \n",
      " 19  r_jail_in             2316 non-null   object \n",
      " 20  r_jail_out            2316 non-null   object \n",
      " 21  violent_recid         0 non-null      float64\n",
      " 22  is_violent_recid      7214 non-null   int64  \n",
      " 23  vr_charge_degree      819 non-null    object \n",
      " 24  vr_offense_date       819 non-null    object \n",
      " 25  type_of_assessment    7214 non-null   object \n",
      " 26  score_text            7214 non-null   object \n",
      " 27  v_type_of_assessment  7214 non-null   object \n",
      " 28  v_decile_score        7214 non-null   int64  \n",
      " 29  v_score_text          7214 non-null   object \n",
      " 30  in_custody            6978 non-null   object \n",
      " 31  out_custody           6978 non-null   object \n",
      " 32  two_year_recid        7214 non-null   int64  \n",
      "dtypes: float64(3), int64(10), object(20)\n",
      "memory usage: 1.8+ MB\n"
     ]
    }
   ],
   "source": [
    "data.info()"
   ]
  },
  {
   "cell_type": "code",
   "execution_count": 26,
   "metadata": {},
   "outputs": [],
   "source": [
    "# Dates processing \n",
    "data[\"custody_days\"] = (pd.to_datetime(data['out_custody']) - pd.to_datetime(data['in_custody'])).dt.days\n",
    "data[\"r_jail_days\"] = (pd.to_datetime(data['r_jail_out']) - pd.to_datetime(data['r_jail_in'])).dt.days\n",
    "data[\"c_jail_days\"] = (pd.to_datetime(data['c_jail_out']) - pd.to_datetime(data['c_jail_in'])).dt.days\n",
    "data = data.drop(columns=[\"in_custody\", \"out_custody\", \"r_jail_in\", \"r_jail_out\", \"c_jail_in\", \"c_jail_out\"])"
   ]
  },
  {
   "cell_type": "code",
   "execution_count": 27,
   "metadata": {},
   "outputs": [],
   "source": [
    "# Processing of missing and < 1 day values\n",
    "data.loc[data[\"custody_days\"].isna(), \"custody_days\"] = -1\n",
    "data[\"custody_days\"] += 1\n",
    "data.loc[data[\"r_jail_days\"].isna(), \"r_jail_days\"] = -1\n",
    "data[\"r_jail_days\"] += 1\n",
    "data.loc[data[\"c_jail_days\"].isna(), \"c_jail_days\"] = -1\n",
    "data[\"c_jail_days\"] += 1"
   ]
  },
  {
   "cell_type": "code",
   "execution_count": 28,
   "metadata": {},
   "outputs": [
    {
     "data": {
      "text/html": [
       "<div>\n",
       "<style scoped>\n",
       "    .dataframe tbody tr th:only-of-type {\n",
       "        vertical-align: middle;\n",
       "    }\n",
       "\n",
       "    .dataframe tbody tr th {\n",
       "        vertical-align: top;\n",
       "    }\n",
       "\n",
       "    .dataframe thead th {\n",
       "        text-align: right;\n",
       "    }\n",
       "</style>\n",
       "<table border=\"1\" class=\"dataframe\">\n",
       "  <thead>\n",
       "    <tr style=\"text-align: right;\">\n",
       "      <th></th>\n",
       "      <th>c_offense_date</th>\n",
       "      <th>c_arrest_date</th>\n",
       "      <th>r_offense_date</th>\n",
       "      <th>vr_offense_date</th>\n",
       "    </tr>\n",
       "  </thead>\n",
       "  <tbody>\n",
       "    <tr>\n",
       "      <th>0</th>\n",
       "      <td>2013-08-13</td>\n",
       "      <td>NaN</td>\n",
       "      <td>NaN</td>\n",
       "      <td>NaN</td>\n",
       "    </tr>\n",
       "    <tr>\n",
       "      <th>1</th>\n",
       "      <td>2013-01-26</td>\n",
       "      <td>NaN</td>\n",
       "      <td>2013-07-05</td>\n",
       "      <td>2013-07-05</td>\n",
       "    </tr>\n",
       "    <tr>\n",
       "      <th>2</th>\n",
       "      <td>2013-04-13</td>\n",
       "      <td>NaN</td>\n",
       "      <td>2013-06-16</td>\n",
       "      <td>NaN</td>\n",
       "    </tr>\n",
       "    <tr>\n",
       "      <th>3</th>\n",
       "      <td>2013-01-12</td>\n",
       "      <td>NaN</td>\n",
       "      <td>NaN</td>\n",
       "      <td>NaN</td>\n",
       "    </tr>\n",
       "    <tr>\n",
       "      <th>4</th>\n",
       "      <td>NaN</td>\n",
       "      <td>2013-01-09</td>\n",
       "      <td>NaN</td>\n",
       "      <td>NaN</td>\n",
       "    </tr>\n",
       "    <tr>\n",
       "      <th>...</th>\n",
       "      <td>...</td>\n",
       "      <td>...</td>\n",
       "      <td>...</td>\n",
       "      <td>...</td>\n",
       "    </tr>\n",
       "    <tr>\n",
       "      <th>7209</th>\n",
       "      <td>2013-11-22</td>\n",
       "      <td>NaN</td>\n",
       "      <td>NaN</td>\n",
       "      <td>NaN</td>\n",
       "    </tr>\n",
       "    <tr>\n",
       "      <th>7210</th>\n",
       "      <td>2014-01-31</td>\n",
       "      <td>NaN</td>\n",
       "      <td>NaN</td>\n",
       "      <td>NaN</td>\n",
       "    </tr>\n",
       "    <tr>\n",
       "      <th>7211</th>\n",
       "      <td>2014-01-13</td>\n",
       "      <td>NaN</td>\n",
       "      <td>NaN</td>\n",
       "      <td>NaN</td>\n",
       "    </tr>\n",
       "    <tr>\n",
       "      <th>7212</th>\n",
       "      <td>2014-03-08</td>\n",
       "      <td>NaN</td>\n",
       "      <td>NaN</td>\n",
       "      <td>NaN</td>\n",
       "    </tr>\n",
       "    <tr>\n",
       "      <th>7213</th>\n",
       "      <td>2014-06-28</td>\n",
       "      <td>NaN</td>\n",
       "      <td>2015-03-15</td>\n",
       "      <td>NaN</td>\n",
       "    </tr>\n",
       "  </tbody>\n",
       "</table>\n",
       "<p>7214 rows × 4 columns</p>\n",
       "</div>"
      ],
      "text/plain": [
       "     c_offense_date c_arrest_date r_offense_date vr_offense_date\n",
       "0        2013-08-13           NaN            NaN             NaN\n",
       "1        2013-01-26           NaN     2013-07-05      2013-07-05\n",
       "2        2013-04-13           NaN     2013-06-16             NaN\n",
       "3        2013-01-12           NaN            NaN             NaN\n",
       "4               NaN    2013-01-09            NaN             NaN\n",
       "...             ...           ...            ...             ...\n",
       "7209     2013-11-22           NaN            NaN             NaN\n",
       "7210     2014-01-31           NaN            NaN             NaN\n",
       "7211     2014-01-13           NaN            NaN             NaN\n",
       "7212     2014-03-08           NaN            NaN             NaN\n",
       "7213     2014-06-28           NaN     2015-03-15             NaN\n",
       "\n",
       "[7214 rows x 4 columns]"
      ]
     },
     "execution_count": 28,
     "metadata": {},
     "output_type": "execute_result"
    }
   ],
   "source": [
    "data[[column for column in data.columns if \"date\" in column]]"
   ]
  },
  {
   "cell_type": "code",
   "execution_count": 29,
   "metadata": {},
   "outputs": [
    {
     "name": "stdout",
     "output_type": "stream",
     "text": [
      "<class 'pandas.core.frame.DataFrame'>\n",
      "RangeIndex: 7214 entries, 0 to 7213\n",
      "Data columns (total 9 columns):\n",
      " #   Column              Non-Null Count  Dtype  \n",
      "---  ------              --------------  -----  \n",
      " 0   c_offense_date      6055 non-null   object \n",
      " 1   c_arrest_date       1137 non-null   object \n",
      " 2   c_days_from_compas  7192 non-null   float64\n",
      " 3   r_charge_degree     3471 non-null   object \n",
      " 4   r_days_from_arrest  2316 non-null   float64\n",
      " 5   r_offense_date      3471 non-null   object \n",
      " 6   violent_recid       0 non-null      float64\n",
      " 7   vr_charge_degree    819 non-null    object \n",
      " 8   vr_offense_date     819 non-null    object \n",
      "dtypes: float64(3), object(6)\n",
      "memory usage: 507.4+ KB\n"
     ]
    }
   ],
   "source": [
    "# Check columns with missing values\n",
    "data[data.columns[data.isna().any()].tolist()].info()"
   ]
  },
  {
   "cell_type": "code",
   "execution_count": 30,
   "metadata": {},
   "outputs": [],
   "source": [
    "# Remove colum with all null values \n",
    "data = data.drop(columns=[\"violent_recid\"])"
   ]
  },
  {
   "cell_type": "code",
   "execution_count": 31,
   "metadata": {},
   "outputs": [],
   "source": [
    "# Dates between crimes processing\n",
    "data[\"vr_days_from_arrest\"] = (pd.to_datetime(data['vr_offense_date']) - pd.to_datetime(data['c_arrest_date'])).dt.days\n",
    "data[\"vr_days_from_offense\"] = (pd.to_datetime(data['vr_offense_date']) - pd.to_datetime(data['c_offense_date'])).dt.days\n",
    "data[\"r_days_from_offense\"] = (pd.to_datetime(data['r_offense_date']) - pd.to_datetime(data['c_offense_date'])).dt.days\n",
    "\n",
    "data = data.drop(columns=[\"c_offense_date\", \"c_arrest_date\", \"r_offense_date\", \"vr_offense_date\"])\n",
    "\n",
    "\n",
    "data.loc[data[\"vr_days_from_arrest\"].isna(), \"vr_days_from_arrest\"] = -1\n",
    "data[\"vr_days_from_arrest\"] += 1\n",
    "data.loc[data[\"vr_days_from_offense\"].isna(), \"vr_days_from_offense\"] = -1\n",
    "data[\"vr_days_from_offense\"] += 1\n",
    "data.loc[data[\"r_days_from_offense\"].isna(), \"r_days_from_offense\"] = -1\n",
    "data[\"r_days_from_offense\"] += 1\n",
    "data.loc[data[\"r_days_from_arrest\"].isna(), \"r_days_from_arrest\"] = -1\n",
    "data[\"r_days_from_arrest\"] += 1"
   ]
  },
  {
   "cell_type": "code",
   "execution_count": 32,
   "metadata": {},
   "outputs": [
    {
     "name": "stdout",
     "output_type": "stream",
     "text": [
      "<class 'pandas.core.frame.DataFrame'>\n",
      "RangeIndex: 7214 entries, 0 to 7213\n",
      "Data columns (total 3 columns):\n",
      " #   Column              Non-Null Count  Dtype  \n",
      "---  ------              --------------  -----  \n",
      " 0   c_days_from_compas  7192 non-null   float64\n",
      " 1   r_charge_degree     3471 non-null   object \n",
      " 2   vr_charge_degree    819 non-null    object \n",
      "dtypes: float64(1), object(2)\n",
      "memory usage: 169.2+ KB\n"
     ]
    }
   ],
   "source": [
    "data[data.columns[data.isna().any()].tolist()].info()"
   ]
  },
  {
   "cell_type": "code",
   "execution_count": 33,
   "metadata": {},
   "outputs": [],
   "source": [
    "# Remove days from compas\n",
    "data = data.drop(columns=[\"c_days_from_compas\"])"
   ]
  },
  {
   "cell_type": "code",
   "execution_count": 34,
   "metadata": {},
   "outputs": [],
   "source": [
    "# Remove types of assesment\n",
    "data = data.drop(columns=[\"type_of_assessment\", \"v_type_of_assessment\"])"
   ]
  },
  {
   "cell_type": "markdown",
   "metadata": {},
   "source": [
    "### Columns processing and encoding"
   ]
  },
  {
   "cell_type": "code",
   "execution_count": 35,
   "metadata": {},
   "outputs": [
    {
     "name": "stdout",
     "output_type": "stream",
     "text": [
      "age_cat        \n",
      "25 - 45            4109\n",
      "Greater than 45    1576\n",
      "Less than 25       1529\n",
      "Name: count, dtype: int64\n"
     ]
    },
    {
     "name": "stderr",
     "output_type": "stream",
     "text": [
      "/tmp/ipykernel_39091/869502010.py:7: FutureWarning: Downcasting behavior in `replace` is deprecated and will be removed in a future version. To retain the old behavior, explicitly call `result.infer_objects(copy=False)`. To opt-in to the future behavior, set `pd.set_option('future.no_silent_downcasting', True)`\n",
      "  data[\"age\"] = data[\"age_cat\"].replace(age_encoding)\n"
     ]
    }
   ],
   "source": [
    "print(data[[\"age_cat\"]].value_counts())\n",
    "age_encoding = {\n",
    "    \"25 - 45\": 2, \n",
    "    \"Greater than 45\": 3, \n",
    "    \"Less than 25\": 1\n",
    "}\n",
    "data[\"age\"] = data[\"age_cat\"].replace(age_encoding)\n",
    "data = data.drop(columns=[\"age_cat\"])"
   ]
  },
  {
   "cell_type": "code",
   "execution_count": 36,
   "metadata": {},
   "outputs": [
    {
     "name": "stdout",
     "output_type": "stream",
     "text": [
      "race\n",
      "African-American    3696\n",
      "Caucasian           2454\n",
      "Hispanic             637\n",
      "Other                377\n",
      "Asian                 32\n",
      "Native American       18\n",
      "Name: count, dtype: int64\n",
      "race\n",
      "1    3696\n",
      "2    3518\n",
      "Name: count, dtype: int64\n"
     ]
    }
   ],
   "source": [
    "print(data[\"race\"].value_counts())\n",
    "data.loc[data[\"race\"] != \"African-American\", \"race\"] = 2\n",
    "data.loc[data[\"race\"] == \"African-American\", \"race\"] = 1\n",
    "print(data[\"race\"].value_counts())"
   ]
  },
  {
   "cell_type": "code",
   "execution_count": 37,
   "metadata": {},
   "outputs": [
    {
     "data": {
      "text/plain": [
       "juv_fel_count\n",
       "0     6932\n",
       "1      189\n",
       "2       51\n",
       "3       18\n",
       "4       12\n",
       "5        5\n",
       "8        2\n",
       "6        2\n",
       "9        1\n",
       "20       1\n",
       "10       1\n",
       "Name: count, dtype: int64"
      ]
     },
     "execution_count": 37,
     "metadata": {},
     "output_type": "execute_result"
    }
   ],
   "source": [
    "data[\"juv_fel_count\"].value_counts()"
   ]
  },
  {
   "cell_type": "code",
   "execution_count": 38,
   "metadata": {},
   "outputs": [
    {
     "data": {
      "text/plain": [
       "juv_fel_count\n",
       "0    6932\n",
       "1     282\n",
       "Name: count, dtype: int64"
      ]
     },
     "execution_count": 38,
     "metadata": {},
     "output_type": "execute_result"
    }
   ],
   "source": [
    "# Binarize juv_fel_count\n",
    "data.loc[data[\"juv_fel_count\"] > 0, \"juv_fel_count\"] = 1\n",
    "data[\"juv_fel_count\"].value_counts()"
   ]
  },
  {
   "cell_type": "code",
   "execution_count": 39,
   "metadata": {},
   "outputs": [
    {
     "data": {
      "text/plain": [
       "juv_other_count\n",
       "0     6691\n",
       "1      368\n",
       "2       98\n",
       "3       33\n",
       "4       15\n",
       "5        4\n",
       "7        2\n",
       "17       1\n",
       "9        1\n",
       "6        1\n",
       "Name: count, dtype: int64"
      ]
     },
     "execution_count": 39,
     "metadata": {},
     "output_type": "execute_result"
    }
   ],
   "source": [
    "data[\"juv_other_count\"].value_counts()"
   ]
  },
  {
   "cell_type": "code",
   "execution_count": 40,
   "metadata": {},
   "outputs": [
    {
     "data": {
      "text/plain": [
       "juv_other_count\n",
       "0    6691\n",
       "1     523\n",
       "Name: count, dtype: int64"
      ]
     },
     "execution_count": 40,
     "metadata": {},
     "output_type": "execute_result"
    }
   ],
   "source": [
    "# Binarize juv_other_count\n",
    "data.loc[data[\"juv_other_count\"] > 0, \"juv_other_count\"] = 1\n",
    "data[\"juv_other_count\"].value_counts()"
   ]
  },
  {
   "cell_type": "code",
   "execution_count": 41,
   "metadata": {},
   "outputs": [
    {
     "data": {
      "text/plain": [
       "juv_misd_count\n",
       "0     6799\n",
       "1      291\n",
       "2       72\n",
       "3       29\n",
       "4        9\n",
       "5        5\n",
       "6        4\n",
       "8        3\n",
       "12       1\n",
       "13       1\n",
       "Name: count, dtype: int64"
      ]
     },
     "execution_count": 41,
     "metadata": {},
     "output_type": "execute_result"
    }
   ],
   "source": [
    "data[\"juv_misd_count\"].value_counts()"
   ]
  },
  {
   "cell_type": "code",
   "execution_count": 42,
   "metadata": {},
   "outputs": [
    {
     "data": {
      "text/plain": [
       "juv_misd_count\n",
       "0    6799\n",
       "1     415\n",
       "Name: count, dtype: int64"
      ]
     },
     "execution_count": 42,
     "metadata": {},
     "output_type": "execute_result"
    }
   ],
   "source": [
    "# Binarize juv_other_count\n",
    "data.loc[data[\"juv_misd_count\"] > 0, \"juv_misd_count\"] = 1\n",
    "data[\"juv_misd_count\"].value_counts()"
   ]
  },
  {
   "cell_type": "code",
   "execution_count": 43,
   "metadata": {},
   "outputs": [],
   "source": [
    "data[[\"decile_score\", \"score_text\"]].value_counts()\n",
    "data = data.drop(columns=[\"score_text\"])"
   ]
  },
  {
   "cell_type": "code",
   "execution_count": 44,
   "metadata": {},
   "outputs": [],
   "source": [
    "data[[\"v_decile_score\", \"v_score_text\"]].value_counts()\n",
    "data = data.drop(columns=[\"v_score_text\"])"
   ]
  },
  {
   "cell_type": "code",
   "execution_count": 46,
   "metadata": {},
   "outputs": [
    {
     "name": "stdout",
     "output_type": "stream",
     "text": [
      "c_charge_degree\n",
      "2                  4666\n",
      "1                  2548\n",
      "Name: count, dtype: int64\n",
      "c_charge_degree\n",
      "2                  4666\n",
      "1                  2548\n",
      "Name: count, dtype: int64\n"
     ]
    }
   ],
   "source": [
    "# Encode charge type \n",
    "print(data[[\"c_charge_degree\"]].value_counts())\n",
    "c_charge_encoding = {\n",
    "    \"F\": 2, \n",
    "    \"M\": 1\n",
    "}\n",
    "data[\"c_charge_degree\"] = data[\"c_charge_degree\"].replace(c_charge_encoding)\n",
    "print(data[[\"c_charge_degree\"]].value_counts())"
   ]
  },
  {
   "cell_type": "code",
   "execution_count": 47,
   "metadata": {},
   "outputs": [
    {
     "name": "stdout",
     "output_type": "stream",
     "text": [
      "r_charge_degree\n",
      "(M1)               1201\n",
      "(M2)               1107\n",
      "(F3)                892\n",
      "(F2)                168\n",
      "(F1)                 51\n",
      "(MO3)                39\n",
      "(F7)                  7\n",
      "(F6)                  3\n",
      "(CO3)                 2\n",
      "(F5)                  1\n",
      "Name: count, dtype: int64\n",
      "r_charge_degree\n",
      "0.0                3743\n",
      "1.0                2349\n",
      "2.0                1122\n",
      "Name: count, dtype: int64\n"
     ]
    },
    {
     "name": "stderr",
     "output_type": "stream",
     "text": [
      "/tmp/ipykernel_39091/4076133844.py:7: FutureWarning: Downcasting behavior in `replace` is deprecated and will be removed in a future version. To retain the old behavior, explicitly call `result.infer_objects(copy=False)`. To opt-in to the future behavior, set `pd.set_option('future.no_silent_downcasting', True)`\n",
      "  data[\"r_charge_degree\"] = data[\"r_charge_degree\"].replace(r_charge_encoding)\n"
     ]
    }
   ],
   "source": [
    "# Encode r charge type\n",
    "print(data[[\"r_charge_degree\"]].value_counts())\n",
    "r_charge_encoding = {\n",
    "    '(F3)': 2, '(M1)': 1, '(F2)': 2, '(M2)': 1, '(MO3)': 1,\n",
    "    '(F1)': 2, '(F6)': 2, '(F7)': 2, '(CO3)': 1, '(F5)': 2\n",
    "}\n",
    "data[\"r_charge_degree\"] = data[\"r_charge_degree\"].replace(r_charge_encoding)\n",
    "data.loc[data[\"r_charge_degree\"].isna(), \"r_charge_degree\"] = 0\n",
    "print(data[[\"r_charge_degree\"]].value_counts())"
   ]
  },
  {
   "cell_type": "code",
   "execution_count": 48,
   "metadata": {},
   "outputs": [
    {
     "name": "stdout",
     "output_type": "stream",
     "text": [
      "vr_charge_degree\n",
      "(M1)                344\n",
      "(F3)                228\n",
      "(F2)                162\n",
      "(F1)                 38\n",
      "(M2)                 19\n",
      "(F7)                 18\n",
      "(MO3)                 5\n",
      "(F6)                  4\n",
      "(F5)                  1\n",
      "Name: count, dtype: int64\n",
      "vr_charge_degree\n",
      "0.0                 6395\n",
      "2.0                  451\n",
      "1.0                  368\n",
      "Name: count, dtype: int64\n"
     ]
    },
    {
     "name": "stderr",
     "output_type": "stream",
     "text": [
      "/tmp/ipykernel_39091/1080367261.py:3: FutureWarning: Downcasting behavior in `replace` is deprecated and will be removed in a future version. To retain the old behavior, explicitly call `result.infer_objects(copy=False)`. To opt-in to the future behavior, set `pd.set_option('future.no_silent_downcasting', True)`\n",
      "  data[\"vr_charge_degree\"] = data[\"vr_charge_degree\"].replace(r_charge_encoding)\n"
     ]
    }
   ],
   "source": [
    "# Encode vr charge type\n",
    "print(data[[\"vr_charge_degree\"]].value_counts())\n",
    "data[\"vr_charge_degree\"] = data[\"vr_charge_degree\"].replace(r_charge_encoding)\n",
    "data.loc[data[\"vr_charge_degree\"].isna(), \"vr_charge_degree\"] = 0\n",
    "print(data[[\"vr_charge_degree\"]].value_counts())"
   ]
  },
  {
   "cell_type": "code",
   "execution_count": 49,
   "metadata": {},
   "outputs": [
    {
     "name": "stdout",
     "output_type": "stream",
     "text": [
      "sex   \n",
      "Male      5819\n",
      "Female    1395\n",
      "Name: count, dtype: int64\n"
     ]
    },
    {
     "name": "stderr",
     "output_type": "stream",
     "text": [
      "/tmp/ipykernel_39091/4222040423.py:6: FutureWarning: Downcasting behavior in `replace` is deprecated and will be removed in a future version. To retain the old behavior, explicitly call `result.infer_objects(copy=False)`. To opt-in to the future behavior, set `pd.set_option('future.no_silent_downcasting', True)`\n",
      "  data[\"sex\"] = data[\"sex\"].replace(gender_encoding)\n"
     ]
    }
   ],
   "source": [
    "print(data[[\"sex\"]].value_counts())\n",
    "gender_encoding = {\n",
    "    \"Male\": 1, \n",
    "    \"Female\": 2\n",
    "}\n",
    "data[\"sex\"] = data[\"sex\"].replace(gender_encoding)"
   ]
  },
  {
   "cell_type": "code",
   "execution_count": 50,
   "metadata": {},
   "outputs": [],
   "source": [
    "data.to_csv(\"../processed_data/COMPAS.csv\", index=False)"
   ]
  },
  {
   "cell_type": "markdown",
   "metadata": {},
   "source": [
    "### Measure initial fairness"
   ]
  },
  {
   "cell_type": "code",
   "execution_count": 4,
   "metadata": {},
   "outputs": [],
   "source": [
    "import sys\n",
    "\n",
    "sys.path.insert(0, \"..\")\n",
    "from fair_metrics.group_fairness import disparity_ratio, social_benefit\n",
    "from fair_metrics.individual_fairness import equalized_odds"
   ]
  },
  {
   "cell_type": "code",
   "execution_count": 31,
   "metadata": {},
   "outputs": [],
   "source": [
    "data = pd.read_csv(\"../processed_data/COMPAS.csv\")"
   ]
  },
  {
   "cell_type": "code",
   "execution_count": 32,
   "metadata": {},
   "outputs": [
    {
     "data": {
      "text/html": [
       "<div>\n",
       "<style scoped>\n",
       "    .dataframe tbody tr th:only-of-type {\n",
       "        vertical-align: middle;\n",
       "    }\n",
       "\n",
       "    .dataframe tbody tr th {\n",
       "        vertical-align: top;\n",
       "    }\n",
       "\n",
       "    .dataframe thead th {\n",
       "        text-align: right;\n",
       "    }\n",
       "</style>\n",
       "<table border=\"1\" class=\"dataframe\">\n",
       "  <thead>\n",
       "    <tr style=\"text-align: right;\">\n",
       "      <th></th>\n",
       "      <th>sex</th>\n",
       "      <th>age</th>\n",
       "      <th>race</th>\n",
       "      <th>juv_fel_count</th>\n",
       "      <th>decile_score</th>\n",
       "      <th>juv_misd_count</th>\n",
       "      <th>juv_other_count</th>\n",
       "      <th>priors_count</th>\n",
       "      <th>c_charge_degree</th>\n",
       "      <th>is_recid</th>\n",
       "      <th>...</th>\n",
       "      <th>is_violent_recid</th>\n",
       "      <th>vr_charge_degree</th>\n",
       "      <th>v_decile_score</th>\n",
       "      <th>two_year_recid</th>\n",
       "      <th>custody_days</th>\n",
       "      <th>r_jail_days</th>\n",
       "      <th>c_jail_days</th>\n",
       "      <th>vr_days_from_arrest</th>\n",
       "      <th>vr_days_from_offense</th>\n",
       "      <th>r_days_from_offense</th>\n",
       "    </tr>\n",
       "  </thead>\n",
       "  <tbody>\n",
       "    <tr>\n",
       "      <th>0</th>\n",
       "      <td>1</td>\n",
       "      <td>3</td>\n",
       "      <td>2</td>\n",
       "      <td>0</td>\n",
       "      <td>1</td>\n",
       "      <td>0</td>\n",
       "      <td>0</td>\n",
       "      <td>0</td>\n",
       "      <td>2</td>\n",
       "      <td>0</td>\n",
       "      <td>...</td>\n",
       "      <td>0</td>\n",
       "      <td>0.0</td>\n",
       "      <td>1</td>\n",
       "      <td>0</td>\n",
       "      <td>8.0</td>\n",
       "      <td>0.0</td>\n",
       "      <td>1.0</td>\n",
       "      <td>0.0</td>\n",
       "      <td>0.0</td>\n",
       "      <td>0.0</td>\n",
       "    </tr>\n",
       "    <tr>\n",
       "      <th>1</th>\n",
       "      <td>1</td>\n",
       "      <td>2</td>\n",
       "      <td>1</td>\n",
       "      <td>0</td>\n",
       "      <td>3</td>\n",
       "      <td>0</td>\n",
       "      <td>0</td>\n",
       "      <td>0</td>\n",
       "      <td>2</td>\n",
       "      <td>1</td>\n",
       "      <td>...</td>\n",
       "      <td>1</td>\n",
       "      <td>2.0</td>\n",
       "      <td>1</td>\n",
       "      <td>1</td>\n",
       "      <td>11.0</td>\n",
       "      <td>0.0</td>\n",
       "      <td>11.0</td>\n",
       "      <td>0.0</td>\n",
       "      <td>161.0</td>\n",
       "      <td>161.0</td>\n",
       "    </tr>\n",
       "    <tr>\n",
       "      <th>2</th>\n",
       "      <td>1</td>\n",
       "      <td>1</td>\n",
       "      <td>1</td>\n",
       "      <td>0</td>\n",
       "      <td>4</td>\n",
       "      <td>0</td>\n",
       "      <td>1</td>\n",
       "      <td>4</td>\n",
       "      <td>2</td>\n",
       "      <td>1</td>\n",
       "      <td>...</td>\n",
       "      <td>0</td>\n",
       "      <td>0.0</td>\n",
       "      <td>3</td>\n",
       "      <td>1</td>\n",
       "      <td>1.0</td>\n",
       "      <td>1.0</td>\n",
       "      <td>2.0</td>\n",
       "      <td>0.0</td>\n",
       "      <td>0.0</td>\n",
       "      <td>65.0</td>\n",
       "    </tr>\n",
       "    <tr>\n",
       "      <th>3</th>\n",
       "      <td>1</td>\n",
       "      <td>1</td>\n",
       "      <td>1</td>\n",
       "      <td>0</td>\n",
       "      <td>8</td>\n",
       "      <td>1</td>\n",
       "      <td>0</td>\n",
       "      <td>1</td>\n",
       "      <td>2</td>\n",
       "      <td>0</td>\n",
       "      <td>...</td>\n",
       "      <td>0</td>\n",
       "      <td>0.0</td>\n",
       "      <td>6</td>\n",
       "      <td>0</td>\n",
       "      <td>0.0</td>\n",
       "      <td>0.0</td>\n",
       "      <td>0.0</td>\n",
       "      <td>0.0</td>\n",
       "      <td>0.0</td>\n",
       "      <td>0.0</td>\n",
       "    </tr>\n",
       "    <tr>\n",
       "      <th>4</th>\n",
       "      <td>1</td>\n",
       "      <td>2</td>\n",
       "      <td>2</td>\n",
       "      <td>0</td>\n",
       "      <td>1</td>\n",
       "      <td>0</td>\n",
       "      <td>0</td>\n",
       "      <td>2</td>\n",
       "      <td>2</td>\n",
       "      <td>0</td>\n",
       "      <td>...</td>\n",
       "      <td>0</td>\n",
       "      <td>0.0</td>\n",
       "      <td>1</td>\n",
       "      <td>0</td>\n",
       "      <td>0.0</td>\n",
       "      <td>0.0</td>\n",
       "      <td>0.0</td>\n",
       "      <td>0.0</td>\n",
       "      <td>0.0</td>\n",
       "      <td>0.0</td>\n",
       "    </tr>\n",
       "    <tr>\n",
       "      <th>...</th>\n",
       "      <td>...</td>\n",
       "      <td>...</td>\n",
       "      <td>...</td>\n",
       "      <td>...</td>\n",
       "      <td>...</td>\n",
       "      <td>...</td>\n",
       "      <td>...</td>\n",
       "      <td>...</td>\n",
       "      <td>...</td>\n",
       "      <td>...</td>\n",
       "      <td>...</td>\n",
       "      <td>...</td>\n",
       "      <td>...</td>\n",
       "      <td>...</td>\n",
       "      <td>...</td>\n",
       "      <td>...</td>\n",
       "      <td>...</td>\n",
       "      <td>...</td>\n",
       "      <td>...</td>\n",
       "      <td>...</td>\n",
       "      <td>...</td>\n",
       "    </tr>\n",
       "    <tr>\n",
       "      <th>7209</th>\n",
       "      <td>1</td>\n",
       "      <td>1</td>\n",
       "      <td>1</td>\n",
       "      <td>0</td>\n",
       "      <td>7</td>\n",
       "      <td>0</td>\n",
       "      <td>0</td>\n",
       "      <td>0</td>\n",
       "      <td>2</td>\n",
       "      <td>0</td>\n",
       "      <td>...</td>\n",
       "      <td>0</td>\n",
       "      <td>0.0</td>\n",
       "      <td>5</td>\n",
       "      <td>0</td>\n",
       "      <td>3.0</td>\n",
       "      <td>0.0</td>\n",
       "      <td>2.0</td>\n",
       "      <td>0.0</td>\n",
       "      <td>0.0</td>\n",
       "      <td>0.0</td>\n",
       "    </tr>\n",
       "    <tr>\n",
       "      <th>7210</th>\n",
       "      <td>1</td>\n",
       "      <td>1</td>\n",
       "      <td>1</td>\n",
       "      <td>0</td>\n",
       "      <td>3</td>\n",
       "      <td>0</td>\n",
       "      <td>0</td>\n",
       "      <td>0</td>\n",
       "      <td>2</td>\n",
       "      <td>0</td>\n",
       "      <td>...</td>\n",
       "      <td>0</td>\n",
       "      <td>0.0</td>\n",
       "      <td>5</td>\n",
       "      <td>0</td>\n",
       "      <td>3.0</td>\n",
       "      <td>0.0</td>\n",
       "      <td>2.0</td>\n",
       "      <td>0.0</td>\n",
       "      <td>0.0</td>\n",
       "      <td>0.0</td>\n",
       "    </tr>\n",
       "    <tr>\n",
       "      <th>7211</th>\n",
       "      <td>1</td>\n",
       "      <td>3</td>\n",
       "      <td>2</td>\n",
       "      <td>0</td>\n",
       "      <td>1</td>\n",
       "      <td>0</td>\n",
       "      <td>0</td>\n",
       "      <td>0</td>\n",
       "      <td>2</td>\n",
       "      <td>0</td>\n",
       "      <td>...</td>\n",
       "      <td>0</td>\n",
       "      <td>0.0</td>\n",
       "      <td>1</td>\n",
       "      <td>0</td>\n",
       "      <td>2.0</td>\n",
       "      <td>0.0</td>\n",
       "      <td>2.0</td>\n",
       "      <td>0.0</td>\n",
       "      <td>0.0</td>\n",
       "      <td>0.0</td>\n",
       "    </tr>\n",
       "    <tr>\n",
       "      <th>7212</th>\n",
       "      <td>2</td>\n",
       "      <td>2</td>\n",
       "      <td>1</td>\n",
       "      <td>0</td>\n",
       "      <td>2</td>\n",
       "      <td>0</td>\n",
       "      <td>0</td>\n",
       "      <td>3</td>\n",
       "      <td>1</td>\n",
       "      <td>0</td>\n",
       "      <td>...</td>\n",
       "      <td>0</td>\n",
       "      <td>0.0</td>\n",
       "      <td>2</td>\n",
       "      <td>0</td>\n",
       "      <td>2.0</td>\n",
       "      <td>0.0</td>\n",
       "      <td>2.0</td>\n",
       "      <td>0.0</td>\n",
       "      <td>0.0</td>\n",
       "      <td>0.0</td>\n",
       "    </tr>\n",
       "    <tr>\n",
       "      <th>7213</th>\n",
       "      <td>2</td>\n",
       "      <td>1</td>\n",
       "      <td>2</td>\n",
       "      <td>0</td>\n",
       "      <td>4</td>\n",
       "      <td>0</td>\n",
       "      <td>0</td>\n",
       "      <td>2</td>\n",
       "      <td>2</td>\n",
       "      <td>1</td>\n",
       "      <td>...</td>\n",
       "      <td>0</td>\n",
       "      <td>0.0</td>\n",
       "      <td>4</td>\n",
       "      <td>1</td>\n",
       "      <td>1.0</td>\n",
       "      <td>1.0</td>\n",
       "      <td>2.0</td>\n",
       "      <td>0.0</td>\n",
       "      <td>0.0</td>\n",
       "      <td>261.0</td>\n",
       "    </tr>\n",
       "  </tbody>\n",
       "</table>\n",
       "<p>7214 rows × 22 columns</p>\n",
       "</div>"
      ],
      "text/plain": [
       "      sex  age  race  juv_fel_count  decile_score  juv_misd_count  \\\n",
       "0       1    3     2              0             1               0   \n",
       "1       1    2     1              0             3               0   \n",
       "2       1    1     1              0             4               0   \n",
       "3       1    1     1              0             8               1   \n",
       "4       1    2     2              0             1               0   \n",
       "...   ...  ...   ...            ...           ...             ...   \n",
       "7209    1    1     1              0             7               0   \n",
       "7210    1    1     1              0             3               0   \n",
       "7211    1    3     2              0             1               0   \n",
       "7212    2    2     1              0             2               0   \n",
       "7213    2    1     2              0             4               0   \n",
       "\n",
       "      juv_other_count  priors_count  c_charge_degree  is_recid  ...  \\\n",
       "0                   0             0                2         0  ...   \n",
       "1                   0             0                2         1  ...   \n",
       "2                   1             4                2         1  ...   \n",
       "3                   0             1                2         0  ...   \n",
       "4                   0             2                2         0  ...   \n",
       "...               ...           ...              ...       ...  ...   \n",
       "7209                0             0                2         0  ...   \n",
       "7210                0             0                2         0  ...   \n",
       "7211                0             0                2         0  ...   \n",
       "7212                0             3                1         0  ...   \n",
       "7213                0             2                2         1  ...   \n",
       "\n",
       "      is_violent_recid  vr_charge_degree  v_decile_score  two_year_recid  \\\n",
       "0                    0               0.0               1               0   \n",
       "1                    1               2.0               1               1   \n",
       "2                    0               0.0               3               1   \n",
       "3                    0               0.0               6               0   \n",
       "4                    0               0.0               1               0   \n",
       "...                ...               ...             ...             ...   \n",
       "7209                 0               0.0               5               0   \n",
       "7210                 0               0.0               5               0   \n",
       "7211                 0               0.0               1               0   \n",
       "7212                 0               0.0               2               0   \n",
       "7213                 0               0.0               4               1   \n",
       "\n",
       "      custody_days  r_jail_days  c_jail_days  vr_days_from_arrest  \\\n",
       "0              8.0          0.0          1.0                  0.0   \n",
       "1             11.0          0.0         11.0                  0.0   \n",
       "2              1.0          1.0          2.0                  0.0   \n",
       "3              0.0          0.0          0.0                  0.0   \n",
       "4              0.0          0.0          0.0                  0.0   \n",
       "...            ...          ...          ...                  ...   \n",
       "7209           3.0          0.0          2.0                  0.0   \n",
       "7210           3.0          0.0          2.0                  0.0   \n",
       "7211           2.0          0.0          2.0                  0.0   \n",
       "7212           2.0          0.0          2.0                  0.0   \n",
       "7213           1.0          1.0          2.0                  0.0   \n",
       "\n",
       "      vr_days_from_offense  r_days_from_offense  \n",
       "0                      0.0                  0.0  \n",
       "1                    161.0                161.0  \n",
       "2                      0.0                 65.0  \n",
       "3                      0.0                  0.0  \n",
       "4                      0.0                  0.0  \n",
       "...                    ...                  ...  \n",
       "7209                   0.0                  0.0  \n",
       "7210                   0.0                  0.0  \n",
       "7211                   0.0                  0.0  \n",
       "7212                   0.0                  0.0  \n",
       "7213                   0.0                261.0  \n",
       "\n",
       "[7214 rows x 22 columns]"
      ]
     },
     "execution_count": 32,
     "metadata": {},
     "output_type": "execute_result"
    }
   ],
   "source": [
    "data"
   ]
  },
  {
   "cell_type": "code",
   "execution_count": 14,
   "metadata": {},
   "outputs": [
    {
     "data": {
      "text/plain": [
       "Index(['sex', 'age', 'race', 'juv_fel_count', 'decile_score', 'juv_misd_count',\n",
       "       'juv_other_count', 'priors_count', 'c_charge_degree', 'is_recid',\n",
       "       'r_charge_degree', 'r_days_from_arrest', 'is_violent_recid',\n",
       "       'vr_charge_degree', 'v_decile_score', 'two_year_recid', 'custody_days',\n",
       "       'r_jail_days', 'c_jail_days', 'vr_days_from_arrest',\n",
       "       'vr_days_from_offense', 'r_days_from_offense'],\n",
       "      dtype='object')"
      ]
     },
     "execution_count": 14,
     "metadata": {},
     "output_type": "execute_result"
    }
   ],
   "source": [
    "data.columns"
   ]
  },
  {
   "cell_type": "markdown",
   "metadata": {},
   "source": [
    "Change \"two_year_recid\" column with opposite values as in most setups, 1 - desired outcome"
   ]
  },
  {
   "cell_type": "code",
   "execution_count": 7,
   "metadata": {},
   "outputs": [
    {
     "name": "stdout",
     "output_type": "stream",
     "text": [
      "two_year_recid\n",
      "0    3963\n",
      "1    3251\n",
      "Name: count, dtype: int64\n",
      "two_year_recid\n",
      "1    3963\n",
      "0    3251\n",
      "Name: count, dtype: int64\n"
     ]
    }
   ],
   "source": [
    "print(data[\"two_year_recid\"].value_counts())\n",
    "data[\"two_year_recid\"] += 1\n",
    "data[\"two_year_recid\"] %= 2\n",
    "print(data[\"two_year_recid\"].value_counts())"
   ]
  },
  {
   "cell_type": "code",
   "execution_count": 8,
   "metadata": {},
   "outputs": [
    {
     "data": {
      "text/plain": [
       "0.7880777164102811"
      ]
     },
     "execution_count": 8,
     "metadata": {},
     "output_type": "execute_result"
    }
   ],
   "source": [
    "disparity_ratio(data, \"two_year_recid\", \"race\", 2, 1)"
   ]
  },
  {
   "cell_type": "markdown",
   "metadata": {},
   "source": [
    "Measurement of social benefit involve the ML prediction algorithm, in our case - Random Forest"
   ]
  },
  {
   "cell_type": "code",
   "execution_count": 9,
   "metadata": {},
   "outputs": [],
   "source": [
    "from sklearn.ensemble import RandomForestClassifier\n",
    "from sklearn.model_selection import train_test_split"
   ]
  },
  {
   "cell_type": "code",
   "execution_count": 10,
   "metadata": {},
   "outputs": [],
   "source": [
    "train, test = train_test_split(data, test_size=0.15, stratify=data[\"two_year_recid\"])\n",
    "train.to_csv(\"../processed_data/COMPAS_train.csv\")\n",
    "test.to_csv(\"../processed_data/COMPAS_test.csv\")"
   ]
  },
  {
   "cell_type": "code",
   "execution_count": 11,
   "metadata": {},
   "outputs": [],
   "source": [
    "train_X, train_y = train.drop(columns=[\"two_year_recid\"]), train[\"two_year_recid\"]\n",
    "test_X, test_y = test.drop(columns=[\"two_year_recid\"]), test[\"two_year_recid\"]"
   ]
  },
  {
   "cell_type": "code",
   "execution_count": 12,
   "metadata": {},
   "outputs": [
    {
     "data": {
      "text/html": [
       "<style>#sk-container-id-1 {\n",
       "  /* Definition of color scheme common for light and dark mode */\n",
       "  --sklearn-color-text: black;\n",
       "  --sklearn-color-line: gray;\n",
       "  /* Definition of color scheme for unfitted estimators */\n",
       "  --sklearn-color-unfitted-level-0: #fff5e6;\n",
       "  --sklearn-color-unfitted-level-1: #f6e4d2;\n",
       "  --sklearn-color-unfitted-level-2: #ffe0b3;\n",
       "  --sklearn-color-unfitted-level-3: chocolate;\n",
       "  /* Definition of color scheme for fitted estimators */\n",
       "  --sklearn-color-fitted-level-0: #f0f8ff;\n",
       "  --sklearn-color-fitted-level-1: #d4ebff;\n",
       "  --sklearn-color-fitted-level-2: #b3dbfd;\n",
       "  --sklearn-color-fitted-level-3: cornflowerblue;\n",
       "\n",
       "  /* Specific color for light theme */\n",
       "  --sklearn-color-text-on-default-background: var(--sg-text-color, var(--theme-code-foreground, var(--jp-content-font-color1, black)));\n",
       "  --sklearn-color-background: var(--sg-background-color, var(--theme-background, var(--jp-layout-color0, white)));\n",
       "  --sklearn-color-border-box: var(--sg-text-color, var(--theme-code-foreground, var(--jp-content-font-color1, black)));\n",
       "  --sklearn-color-icon: #696969;\n",
       "\n",
       "  @media (prefers-color-scheme: dark) {\n",
       "    /* Redefinition of color scheme for dark theme */\n",
       "    --sklearn-color-text-on-default-background: var(--sg-text-color, var(--theme-code-foreground, var(--jp-content-font-color1, white)));\n",
       "    --sklearn-color-background: var(--sg-background-color, var(--theme-background, var(--jp-layout-color0, #111)));\n",
       "    --sklearn-color-border-box: var(--sg-text-color, var(--theme-code-foreground, var(--jp-content-font-color1, white)));\n",
       "    --sklearn-color-icon: #878787;\n",
       "  }\n",
       "}\n",
       "\n",
       "#sk-container-id-1 {\n",
       "  color: var(--sklearn-color-text);\n",
       "}\n",
       "\n",
       "#sk-container-id-1 pre {\n",
       "  padding: 0;\n",
       "}\n",
       "\n",
       "#sk-container-id-1 input.sk-hidden--visually {\n",
       "  border: 0;\n",
       "  clip: rect(1px 1px 1px 1px);\n",
       "  clip: rect(1px, 1px, 1px, 1px);\n",
       "  height: 1px;\n",
       "  margin: -1px;\n",
       "  overflow: hidden;\n",
       "  padding: 0;\n",
       "  position: absolute;\n",
       "  width: 1px;\n",
       "}\n",
       "\n",
       "#sk-container-id-1 div.sk-dashed-wrapped {\n",
       "  border: 1px dashed var(--sklearn-color-line);\n",
       "  margin: 0 0.4em 0.5em 0.4em;\n",
       "  box-sizing: border-box;\n",
       "  padding-bottom: 0.4em;\n",
       "  background-color: var(--sklearn-color-background);\n",
       "}\n",
       "\n",
       "#sk-container-id-1 div.sk-container {\n",
       "  /* jupyter's `normalize.less` sets `[hidden] { display: none; }`\n",
       "     but bootstrap.min.css set `[hidden] { display: none !important; }`\n",
       "     so we also need the `!important` here to be able to override the\n",
       "     default hidden behavior on the sphinx rendered scikit-learn.org.\n",
       "     See: https://github.com/scikit-learn/scikit-learn/issues/21755 */\n",
       "  display: inline-block !important;\n",
       "  position: relative;\n",
       "}\n",
       "\n",
       "#sk-container-id-1 div.sk-text-repr-fallback {\n",
       "  display: none;\n",
       "}\n",
       "\n",
       "div.sk-parallel-item,\n",
       "div.sk-serial,\n",
       "div.sk-item {\n",
       "  /* draw centered vertical line to link estimators */\n",
       "  background-image: linear-gradient(var(--sklearn-color-text-on-default-background), var(--sklearn-color-text-on-default-background));\n",
       "  background-size: 2px 100%;\n",
       "  background-repeat: no-repeat;\n",
       "  background-position: center center;\n",
       "}\n",
       "\n",
       "/* Parallel-specific style estimator block */\n",
       "\n",
       "#sk-container-id-1 div.sk-parallel-item::after {\n",
       "  content: \"\";\n",
       "  width: 100%;\n",
       "  border-bottom: 2px solid var(--sklearn-color-text-on-default-background);\n",
       "  flex-grow: 1;\n",
       "}\n",
       "\n",
       "#sk-container-id-1 div.sk-parallel {\n",
       "  display: flex;\n",
       "  align-items: stretch;\n",
       "  justify-content: center;\n",
       "  background-color: var(--sklearn-color-background);\n",
       "  position: relative;\n",
       "}\n",
       "\n",
       "#sk-container-id-1 div.sk-parallel-item {\n",
       "  display: flex;\n",
       "  flex-direction: column;\n",
       "}\n",
       "\n",
       "#sk-container-id-1 div.sk-parallel-item:first-child::after {\n",
       "  align-self: flex-end;\n",
       "  width: 50%;\n",
       "}\n",
       "\n",
       "#sk-container-id-1 div.sk-parallel-item:last-child::after {\n",
       "  align-self: flex-start;\n",
       "  width: 50%;\n",
       "}\n",
       "\n",
       "#sk-container-id-1 div.sk-parallel-item:only-child::after {\n",
       "  width: 0;\n",
       "}\n",
       "\n",
       "/* Serial-specific style estimator block */\n",
       "\n",
       "#sk-container-id-1 div.sk-serial {\n",
       "  display: flex;\n",
       "  flex-direction: column;\n",
       "  align-items: center;\n",
       "  background-color: var(--sklearn-color-background);\n",
       "  padding-right: 1em;\n",
       "  padding-left: 1em;\n",
       "}\n",
       "\n",
       "\n",
       "/* Toggleable style: style used for estimator/Pipeline/ColumnTransformer box that is\n",
       "clickable and can be expanded/collapsed.\n",
       "- Pipeline and ColumnTransformer use this feature and define the default style\n",
       "- Estimators will overwrite some part of the style using the `sk-estimator` class\n",
       "*/\n",
       "\n",
       "/* Pipeline and ColumnTransformer style (default) */\n",
       "\n",
       "#sk-container-id-1 div.sk-toggleable {\n",
       "  /* Default theme specific background. It is overwritten whether we have a\n",
       "  specific estimator or a Pipeline/ColumnTransformer */\n",
       "  background-color: var(--sklearn-color-background);\n",
       "}\n",
       "\n",
       "/* Toggleable label */\n",
       "#sk-container-id-1 label.sk-toggleable__label {\n",
       "  cursor: pointer;\n",
       "  display: block;\n",
       "  width: 100%;\n",
       "  margin-bottom: 0;\n",
       "  padding: 0.5em;\n",
       "  box-sizing: border-box;\n",
       "  text-align: center;\n",
       "}\n",
       "\n",
       "#sk-container-id-1 label.sk-toggleable__label-arrow:before {\n",
       "  /* Arrow on the left of the label */\n",
       "  content: \"▸\";\n",
       "  float: left;\n",
       "  margin-right: 0.25em;\n",
       "  color: var(--sklearn-color-icon);\n",
       "}\n",
       "\n",
       "#sk-container-id-1 label.sk-toggleable__label-arrow:hover:before {\n",
       "  color: var(--sklearn-color-text);\n",
       "}\n",
       "\n",
       "/* Toggleable content - dropdown */\n",
       "\n",
       "#sk-container-id-1 div.sk-toggleable__content {\n",
       "  max-height: 0;\n",
       "  max-width: 0;\n",
       "  overflow: hidden;\n",
       "  text-align: left;\n",
       "  /* unfitted */\n",
       "  background-color: var(--sklearn-color-unfitted-level-0);\n",
       "}\n",
       "\n",
       "#sk-container-id-1 div.sk-toggleable__content.fitted {\n",
       "  /* fitted */\n",
       "  background-color: var(--sklearn-color-fitted-level-0);\n",
       "}\n",
       "\n",
       "#sk-container-id-1 div.sk-toggleable__content pre {\n",
       "  margin: 0.2em;\n",
       "  border-radius: 0.25em;\n",
       "  color: var(--sklearn-color-text);\n",
       "  /* unfitted */\n",
       "  background-color: var(--sklearn-color-unfitted-level-0);\n",
       "}\n",
       "\n",
       "#sk-container-id-1 div.sk-toggleable__content.fitted pre {\n",
       "  /* unfitted */\n",
       "  background-color: var(--sklearn-color-fitted-level-0);\n",
       "}\n",
       "\n",
       "#sk-container-id-1 input.sk-toggleable__control:checked~div.sk-toggleable__content {\n",
       "  /* Expand drop-down */\n",
       "  max-height: 200px;\n",
       "  max-width: 100%;\n",
       "  overflow: auto;\n",
       "}\n",
       "\n",
       "#sk-container-id-1 input.sk-toggleable__control:checked~label.sk-toggleable__label-arrow:before {\n",
       "  content: \"▾\";\n",
       "}\n",
       "\n",
       "/* Pipeline/ColumnTransformer-specific style */\n",
       "\n",
       "#sk-container-id-1 div.sk-label input.sk-toggleable__control:checked~label.sk-toggleable__label {\n",
       "  color: var(--sklearn-color-text);\n",
       "  background-color: var(--sklearn-color-unfitted-level-2);\n",
       "}\n",
       "\n",
       "#sk-container-id-1 div.sk-label.fitted input.sk-toggleable__control:checked~label.sk-toggleable__label {\n",
       "  background-color: var(--sklearn-color-fitted-level-2);\n",
       "}\n",
       "\n",
       "/* Estimator-specific style */\n",
       "\n",
       "/* Colorize estimator box */\n",
       "#sk-container-id-1 div.sk-estimator input.sk-toggleable__control:checked~label.sk-toggleable__label {\n",
       "  /* unfitted */\n",
       "  background-color: var(--sklearn-color-unfitted-level-2);\n",
       "}\n",
       "\n",
       "#sk-container-id-1 div.sk-estimator.fitted input.sk-toggleable__control:checked~label.sk-toggleable__label {\n",
       "  /* fitted */\n",
       "  background-color: var(--sklearn-color-fitted-level-2);\n",
       "}\n",
       "\n",
       "#sk-container-id-1 div.sk-label label.sk-toggleable__label,\n",
       "#sk-container-id-1 div.sk-label label {\n",
       "  /* The background is the default theme color */\n",
       "  color: var(--sklearn-color-text-on-default-background);\n",
       "}\n",
       "\n",
       "/* On hover, darken the color of the background */\n",
       "#sk-container-id-1 div.sk-label:hover label.sk-toggleable__label {\n",
       "  color: var(--sklearn-color-text);\n",
       "  background-color: var(--sklearn-color-unfitted-level-2);\n",
       "}\n",
       "\n",
       "/* Label box, darken color on hover, fitted */\n",
       "#sk-container-id-1 div.sk-label.fitted:hover label.sk-toggleable__label.fitted {\n",
       "  color: var(--sklearn-color-text);\n",
       "  background-color: var(--sklearn-color-fitted-level-2);\n",
       "}\n",
       "\n",
       "/* Estimator label */\n",
       "\n",
       "#sk-container-id-1 div.sk-label label {\n",
       "  font-family: monospace;\n",
       "  font-weight: bold;\n",
       "  display: inline-block;\n",
       "  line-height: 1.2em;\n",
       "}\n",
       "\n",
       "#sk-container-id-1 div.sk-label-container {\n",
       "  text-align: center;\n",
       "}\n",
       "\n",
       "/* Estimator-specific */\n",
       "#sk-container-id-1 div.sk-estimator {\n",
       "  font-family: monospace;\n",
       "  border: 1px dotted var(--sklearn-color-border-box);\n",
       "  border-radius: 0.25em;\n",
       "  box-sizing: border-box;\n",
       "  margin-bottom: 0.5em;\n",
       "  /* unfitted */\n",
       "  background-color: var(--sklearn-color-unfitted-level-0);\n",
       "}\n",
       "\n",
       "#sk-container-id-1 div.sk-estimator.fitted {\n",
       "  /* fitted */\n",
       "  background-color: var(--sklearn-color-fitted-level-0);\n",
       "}\n",
       "\n",
       "/* on hover */\n",
       "#sk-container-id-1 div.sk-estimator:hover {\n",
       "  /* unfitted */\n",
       "  background-color: var(--sklearn-color-unfitted-level-2);\n",
       "}\n",
       "\n",
       "#sk-container-id-1 div.sk-estimator.fitted:hover {\n",
       "  /* fitted */\n",
       "  background-color: var(--sklearn-color-fitted-level-2);\n",
       "}\n",
       "\n",
       "/* Specification for estimator info (e.g. \"i\" and \"?\") */\n",
       "\n",
       "/* Common style for \"i\" and \"?\" */\n",
       "\n",
       ".sk-estimator-doc-link,\n",
       "a:link.sk-estimator-doc-link,\n",
       "a:visited.sk-estimator-doc-link {\n",
       "  float: right;\n",
       "  font-size: smaller;\n",
       "  line-height: 1em;\n",
       "  font-family: monospace;\n",
       "  background-color: var(--sklearn-color-background);\n",
       "  border-radius: 1em;\n",
       "  height: 1em;\n",
       "  width: 1em;\n",
       "  text-decoration: none !important;\n",
       "  margin-left: 1ex;\n",
       "  /* unfitted */\n",
       "  border: var(--sklearn-color-unfitted-level-1) 1pt solid;\n",
       "  color: var(--sklearn-color-unfitted-level-1);\n",
       "}\n",
       "\n",
       ".sk-estimator-doc-link.fitted,\n",
       "a:link.sk-estimator-doc-link.fitted,\n",
       "a:visited.sk-estimator-doc-link.fitted {\n",
       "  /* fitted */\n",
       "  border: var(--sklearn-color-fitted-level-1) 1pt solid;\n",
       "  color: var(--sklearn-color-fitted-level-1);\n",
       "}\n",
       "\n",
       "/* On hover */\n",
       "div.sk-estimator:hover .sk-estimator-doc-link:hover,\n",
       ".sk-estimator-doc-link:hover,\n",
       "div.sk-label-container:hover .sk-estimator-doc-link:hover,\n",
       ".sk-estimator-doc-link:hover {\n",
       "  /* unfitted */\n",
       "  background-color: var(--sklearn-color-unfitted-level-3);\n",
       "  color: var(--sklearn-color-background);\n",
       "  text-decoration: none;\n",
       "}\n",
       "\n",
       "div.sk-estimator.fitted:hover .sk-estimator-doc-link.fitted:hover,\n",
       ".sk-estimator-doc-link.fitted:hover,\n",
       "div.sk-label-container:hover .sk-estimator-doc-link.fitted:hover,\n",
       ".sk-estimator-doc-link.fitted:hover {\n",
       "  /* fitted */\n",
       "  background-color: var(--sklearn-color-fitted-level-3);\n",
       "  color: var(--sklearn-color-background);\n",
       "  text-decoration: none;\n",
       "}\n",
       "\n",
       "/* Span, style for the box shown on hovering the info icon */\n",
       ".sk-estimator-doc-link span {\n",
       "  display: none;\n",
       "  z-index: 9999;\n",
       "  position: relative;\n",
       "  font-weight: normal;\n",
       "  right: .2ex;\n",
       "  padding: .5ex;\n",
       "  margin: .5ex;\n",
       "  width: min-content;\n",
       "  min-width: 20ex;\n",
       "  max-width: 50ex;\n",
       "  color: var(--sklearn-color-text);\n",
       "  box-shadow: 2pt 2pt 4pt #999;\n",
       "  /* unfitted */\n",
       "  background: var(--sklearn-color-unfitted-level-0);\n",
       "  border: .5pt solid var(--sklearn-color-unfitted-level-3);\n",
       "}\n",
       "\n",
       ".sk-estimator-doc-link.fitted span {\n",
       "  /* fitted */\n",
       "  background: var(--sklearn-color-fitted-level-0);\n",
       "  border: var(--sklearn-color-fitted-level-3);\n",
       "}\n",
       "\n",
       ".sk-estimator-doc-link:hover span {\n",
       "  display: block;\n",
       "}\n",
       "\n",
       "/* \"?\"-specific style due to the `<a>` HTML tag */\n",
       "\n",
       "#sk-container-id-1 a.estimator_doc_link {\n",
       "  float: right;\n",
       "  font-size: 1rem;\n",
       "  line-height: 1em;\n",
       "  font-family: monospace;\n",
       "  background-color: var(--sklearn-color-background);\n",
       "  border-radius: 1rem;\n",
       "  height: 1rem;\n",
       "  width: 1rem;\n",
       "  text-decoration: none;\n",
       "  /* unfitted */\n",
       "  color: var(--sklearn-color-unfitted-level-1);\n",
       "  border: var(--sklearn-color-unfitted-level-1) 1pt solid;\n",
       "}\n",
       "\n",
       "#sk-container-id-1 a.estimator_doc_link.fitted {\n",
       "  /* fitted */\n",
       "  border: var(--sklearn-color-fitted-level-1) 1pt solid;\n",
       "  color: var(--sklearn-color-fitted-level-1);\n",
       "}\n",
       "\n",
       "/* On hover */\n",
       "#sk-container-id-1 a.estimator_doc_link:hover {\n",
       "  /* unfitted */\n",
       "  background-color: var(--sklearn-color-unfitted-level-3);\n",
       "  color: var(--sklearn-color-background);\n",
       "  text-decoration: none;\n",
       "}\n",
       "\n",
       "#sk-container-id-1 a.estimator_doc_link.fitted:hover {\n",
       "  /* fitted */\n",
       "  background-color: var(--sklearn-color-fitted-level-3);\n",
       "}\n",
       "</style><div id=\"sk-container-id-1\" class=\"sk-top-container\"><div class=\"sk-text-repr-fallback\"><pre>RandomForestClassifier(random_state=42)</pre><b>In a Jupyter environment, please rerun this cell to show the HTML representation or trust the notebook. <br />On GitHub, the HTML representation is unable to render, please try loading this page with nbviewer.org.</b></div><div class=\"sk-container\" hidden><div class=\"sk-item\"><div class=\"sk-estimator fitted sk-toggleable\"><input class=\"sk-toggleable__control sk-hidden--visually\" id=\"sk-estimator-id-1\" type=\"checkbox\" checked><label for=\"sk-estimator-id-1\" class=\"sk-toggleable__label fitted sk-toggleable__label-arrow fitted\">&nbsp;&nbsp;RandomForestClassifier<a class=\"sk-estimator-doc-link fitted\" rel=\"noreferrer\" target=\"_blank\" href=\"https://scikit-learn.org/1.4/modules/generated/sklearn.ensemble.RandomForestClassifier.html\">?<span>Documentation for RandomForestClassifier</span></a><span class=\"sk-estimator-doc-link fitted\">i<span>Fitted</span></span></label><div class=\"sk-toggleable__content fitted\"><pre>RandomForestClassifier(random_state=42)</pre></div> </div></div></div></div>"
      ],
      "text/plain": [
       "RandomForestClassifier(random_state=42)"
      ]
     },
     "execution_count": 12,
     "metadata": {},
     "output_type": "execute_result"
    }
   ],
   "source": [
    "# Use default version of classifier from library\n",
    "# Fix random_state for reproducibility\n",
    "clf = RandomForestClassifier(random_state=42)\n",
    "clf.fit(train_X, train_y)"
   ]
  },
  {
   "cell_type": "code",
   "execution_count": 13,
   "metadata": {},
   "outputs": [
    {
     "data": {
      "text/plain": [
       "0.9824561403508771"
      ]
     },
     "execution_count": 13,
     "metadata": {},
     "output_type": "execute_result"
    }
   ],
   "source": [
    "social_benefit(test, \"two_year_recid\", clf.predict)"
   ]
  },
  {
   "cell_type": "code",
   "execution_count": 15,
   "metadata": {},
   "outputs": [
    {
     "data": {
      "text/plain": [
       "decile_score\n",
       "1     1440\n",
       "2      941\n",
       "4      769\n",
       "3      747\n",
       "5      681\n",
       "6      641\n",
       "7      592\n",
       "8      512\n",
       "9      508\n",
       "10     383\n",
       "Name: count, dtype: int64"
      ]
     },
     "execution_count": 15,
     "metadata": {},
     "output_type": "execute_result"
    }
   ],
   "source": [
    "data[\"decile_score\"].value_counts()"
   ]
  },
  {
   "cell_type": "code",
   "execution_count": 16,
   "metadata": {},
   "outputs": [
    {
     "data": {
      "text/plain": [
       "0.9135673049949062"
      ]
     },
     "execution_count": 16,
     "metadata": {},
     "output_type": "execute_result"
    }
   ],
   "source": [
    "equalized_odds(data, \"two_year_recid\", \"race\", \"decile_score\", lambda x: x < 5, 2, 1)"
   ]
  },
  {
   "cell_type": "code",
   "execution_count": null,
   "metadata": {},
   "outputs": [],
   "source": [
    "equalized_odds(data, \"two_year_recid\", \"race\", \"decile_score\", lambda x: x < 5, 2, 1)"
   ]
  },
  {
   "cell_type": "code",
   "execution_count": 17,
   "metadata": {},
   "outputs": [
    {
     "data": {
      "text/plain": [
       "priors_count\n",
       "0     2150\n",
       "1     1397\n",
       "2      840\n",
       "3      568\n",
       "4      401\n",
       "5      334\n",
       "6      242\n",
       "7      210\n",
       "8      187\n",
       "9      149\n",
       "10     110\n",
       "11      98\n",
       "13      77\n",
       "12      73\n",
       "14      56\n",
       "15      51\n",
       "16      39\n",
       "17      36\n",
       "19      30\n",
       "18      26\n",
       "20      23\n",
       "21      22\n",
       "22      21\n",
       "23      16\n",
       "24      11\n",
       "25       9\n",
       "26       7\n",
       "27       7\n",
       "28       7\n",
       "29       5\n",
       "33       3\n",
       "30       2\n",
       "38       2\n",
       "31       2\n",
       "36       1\n",
       "37       1\n",
       "35       1\n",
       "Name: count, dtype: int64"
      ]
     },
     "execution_count": 17,
     "metadata": {},
     "output_type": "execute_result"
    }
   ],
   "source": [
    "data[\"priors_count\"].value_counts()"
   ]
  },
  {
   "cell_type": "code",
   "execution_count": 18,
   "metadata": {},
   "outputs": [
    {
     "data": {
      "text/plain": [
       "0.8757426557721325"
      ]
     },
     "execution_count": 18,
     "metadata": {},
     "output_type": "execute_result"
    }
   ],
   "source": [
    "equalized_odds(data, \"two_year_recid\", \"race\", \"priors_count\", lambda x: x < 2, 2, 1)"
   ]
  },
  {
   "cell_type": "code",
   "execution_count": 20,
   "metadata": {},
   "outputs": [
    {
     "data": {
      "text/plain": [
       "c_charge_degree\n",
       "2    4666\n",
       "1    2548\n",
       "Name: count, dtype: int64"
      ]
     },
     "execution_count": 20,
     "metadata": {},
     "output_type": "execute_result"
    }
   ],
   "source": [
    "data[\"c_charge_degree\"].value_counts()"
   ]
  },
  {
   "cell_type": "code",
   "execution_count": 23,
   "metadata": {},
   "outputs": [
    {
     "data": {
      "text/plain": [
       "0.7991186741884158"
      ]
     },
     "execution_count": 23,
     "metadata": {},
     "output_type": "execute_result"
    }
   ],
   "source": [
    "equalized_odds(data, \"two_year_recid\", \"race\", \"c_charge_degree\", lambda x: x == 2, 2, 1)"
   ]
  }
 ],
 "metadata": {
  "kernelspec": {
   "display_name": "FairEnv",
   "language": "python",
   "name": "python3"
  },
  "language_info": {
   "codemirror_mode": {
    "name": "ipython",
    "version": 3
   },
   "file_extension": ".py",
   "mimetype": "text/x-python",
   "name": "python",
   "nbconvert_exporter": "python",
   "pygments_lexer": "ipython3",
   "version": "3.10.13"
  }
 },
 "nbformat": 4,
 "nbformat_minor": 2
}
